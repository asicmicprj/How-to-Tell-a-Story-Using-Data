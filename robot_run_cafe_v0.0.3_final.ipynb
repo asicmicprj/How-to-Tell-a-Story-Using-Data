{
 "cells": [
  {
   "cell_type": "markdown",
   "metadata": {},
   "source": [
    "<div style=\"border:solid Chocolate 2px; padding: 40px\">\n",
    "\n",
    "<b>Hello, Kamil!👋 How are you today?</b>\n",
    "    \n",
    "My name is Arina U. and I am glad to be your reviewer in this project! Nice to meet you!<br />\n",
    "\n",
    "\n",
    "You can find my comments in <font color='green'>green</font>, <font color='gold'>yellow</font> and <font color='red'>red</font> boxes. Examples you can see below:\n",
    "    \n",
    "<div class=\"alert alert-block alert-success\">\n",
    "    <h2>Reviewer's commentary <a class=\"tocSkip\"> </h2>\n",
    "    <br/>\n",
    "<b>Well done!👍:</b> In case if task is completely correct and everything is alright!\n",
    "</div>\n",
    "\n",
    "\n",
    "<div class=\"alert alert-block alert-warning\">\n",
    "   <h2>Reviewer's commentary <a class=\"tocSkip\"> </h2>\n",
    "    <br/>\n",
    "<b>Remarks and recommendations📌:</b>  In case when I can give some advice that can help you to improve your work or recommend you some useful links and resources that can help you widen your knowledge and help in future tasks.\n",
    "</div>\n",
    "\n",
    "<div class=\"alert alert-block alert-danger\">\n",
    "    <h2>Reviewer's commentary <a class=\"tocSkip\"> </h2>\n",
    "    <br/>\n",
    "<b>Needs fixing!🤔:</b> In case when step requires some extra work and some corrections. Project can't be accepted with comments in the red boxes\n",
    "</div>\n",
    "\n",
    "Please pay attention to not move or change my comments. It would be good to highlight your answers in some way. \n",
    "\n",
    "#### <font color='Purple'>Student's commentary:</font> for example like this <a class=\"tocSkip\"> </div>\n",
    "    \n",
    "OK, now let's go!😏\n",
    "</font>"
   ]
  },
  {
   "cell_type": "markdown",
   "metadata": {},
   "source": [
    "# Robot-run cafe"
   ]
  },
  {
   "cell_type": "markdown",
   "metadata": {},
   "source": [
    "# Table of contents"
   ]
  },
  {
   "cell_type": "markdown",
   "metadata": {},
   "source": [
    "1. [Project Description](#ProjectDescription)\n",
    "2. [Step 1. Download the data and prepare it for analysis](#OpenData&GeneralInfo)\n",
    "3. [Step 2. Data analysis](#DataAnalysis)\n",
    "4. [Step 3. Preparing a presentation](#Presentation)\n",
    "5. [Conclusion](#Conclusion)"
   ]
  },
  {
   "cell_type": "markdown",
   "metadata": {},
   "source": [
    "### Project Description. <a name=\"ProjectDescription\"></a>"
   ]
  },
  {
   "cell_type": "markdown",
   "metadata": {},
   "source": [
    "|  Name  |  Description  |\n",
    "| :----: |  :---- |\n",
    "|  **Initial conditions**  | Your first task is to help optimize marketing expense.                                | \n",
    "|  **What we have**        | You’ve decided to open a small robot-run cafe in Los Angeles. The project is promising but expensive, so you and your partners decide to try to attract investors. They’re interested in the current market conditions—will you be able to maintain your success when the novelty of robot waiters wears off?        |\n",
    "|  **Main question of project**  |  How much money to invest and where to marketers?                               |\n",
    "| **Project Description**  | [Link to Project Description](https://practicum.yandex.com/trainer/data-analyst/lesson/da301f15-cfdb-4ac1-ba36-0872df8f9cf5/task/eb50e373-a61a-4206-89a3-49095515f6a7/)    |\n",
    "| **Datasets**             | [/datasets/visits_log_us.csv](https://code.s3.yandex.net/datasets/visits_log_us.csv)  |\n",
    "|                          | [/datasets/orders_log_us.csv](https://code.s3.yandex.net/datasets/orders_log_us.csv)  |\n",
    "|                          | [/datasets/costs_us.csv](https://code.s3.yandex.net/datasets/costs_us.csv)            |"
   ]
  },
  {
   "cell_type": "markdown",
   "metadata": {},
   "source": [
    "### Step 1. Download the data and prepare it for analysis. <a name=\"OpenData&GeneralInfo\"></a>"
   ]
  },
  {
   "cell_type": "code",
   "execution_count": 1,
   "metadata": {},
   "outputs": [
    {
     "name": "stdout",
     "output_type": "stream",
     "text": [
      "Defaulting to user installation because normal site-packages is not writeable\n",
      "Collecting usaddress\n",
      "  Downloading usaddress-0.5.10-py2.py3-none-any.whl (63 kB)\n",
      "\u001b[K     |████████████████████████████████| 63 kB 712 kB/s eta 0:00:011\n",
      "\u001b[?25hRequirement already satisfied: future>=0.14 in /opt/conda/lib/python3.7/site-packages (from usaddress) (0.18.2)\n",
      "Collecting probableparsing\n",
      "  Downloading probableparsing-0.0.1-py2.py3-none-any.whl (3.1 kB)\n",
      "Collecting python-crfsuite>=0.7\n",
      "  Downloading python_crfsuite-0.9.7-cp37-cp37m-manylinux1_x86_64.whl (743 kB)\n",
      "\u001b[K     |████████████████████████████████| 743 kB 1.6 MB/s eta 0:00:01\n",
      "\u001b[?25hInstalling collected packages: probableparsing, python-crfsuite, usaddress\n",
      "Successfully installed probableparsing-0.0.1 python-crfsuite-0.9.7 usaddress-0.5.10\n"
     ]
    }
   ],
   "source": [
    "# import all packages\n",
    "import pandas as pd\n",
    "import numpy as np\n",
    "import random\n",
    "import scipy.stats as stats\n",
    "import re as re\n",
    "!pip install usaddress\n",
    "import usaddress\n",
    "\n",
    "import matplotlib.pyplot as plt\n",
    "import matplotlib.patches as mpatches\n",
    "import seaborn as sns\n",
    "\n",
    "%matplotlib inline"
   ]
  },
  {
   "cell_type": "markdown",
   "metadata": {},
   "source": [
    "<div class=\"alert alert-block alert-warning\">\n",
    "   <h2>Reviewer's commentary <a class=\"tocSkip\"> </h2>\n",
    "    <br/>\n",
    "<b>Remarks and recommendations📌:</b>  \n",
    "       \n",
    "Kamil, firstly we install (using pip), secondly we import. So, because you installed the usaddress below, after import, the code in the import block here provides error. I move pip install to this import block. Please, next time be more carefull with that👀👌"
   ]
  },
  {
   "cell_type": "code",
   "execution_count": 2,
   "metadata": {},
   "outputs": [
    {
     "name": "stdout",
     "output_type": "stream",
     "text": [
      "Pandas version library: 0.25.1\n",
      "Numpy version library: 1.19.5\n",
      "Seaborn version library: 0.9.0\n"
     ]
    }
   ],
   "source": [
    "print('Pandas version library:',pd.__version__)\n",
    "print('Numpy version library:', np.__version__)\n",
    "print('Seaborn version library:', sns.__version__)\n",
    "#print('Python version:', python.__version__)"
   ]
  },
  {
   "cell_type": "code",
   "execution_count": 3,
   "metadata": {},
   "outputs": [],
   "source": [
    "df_data = pd.read_csv('https://code.s3.yandex.net/datasets/rest_data_us.csv', nrows=9651)"
   ]
  },
  {
   "cell_type": "markdown",
   "metadata": {},
   "source": [
    "\n",
    "<div class=\"alert alert-block alert-warning\">\n",
    "   <h2>Reviewer's commentary <a class=\"tocSkip\"> </h2>\n",
    "    <br/>\n",
    "<b>Remarks and recommendations📌:</b>\n",
    "       \n",
    "I would like to recommend you to use `try-except` construction for importing of the data. More details see on the links below:\n",
    "       \n",
    "https://www.w3schools.com/python/python_try_except.asp\n",
    "       \n",
    "https://docs.python.org/3/tutorial/errors.html"
   ]
  },
  {
   "cell_type": "code",
   "execution_count": 4,
   "metadata": {},
   "outputs": [
    {
     "data": {
      "text/html": [
       "<div>\n",
       "<style scoped>\n",
       "    .dataframe tbody tr th:only-of-type {\n",
       "        vertical-align: middle;\n",
       "    }\n",
       "\n",
       "    .dataframe tbody tr th {\n",
       "        vertical-align: top;\n",
       "    }\n",
       "\n",
       "    .dataframe thead th {\n",
       "        text-align: right;\n",
       "    }\n",
       "</style>\n",
       "<table border=\"1\" class=\"dataframe\">\n",
       "  <thead>\n",
       "    <tr style=\"text-align: right;\">\n",
       "      <th></th>\n",
       "      <th>id</th>\n",
       "      <th>object_name</th>\n",
       "      <th>address</th>\n",
       "      <th>chain</th>\n",
       "      <th>object_type</th>\n",
       "      <th>number</th>\n",
       "    </tr>\n",
       "  </thead>\n",
       "  <tbody>\n",
       "    <tr>\n",
       "      <td>0</td>\n",
       "      <td>11786</td>\n",
       "      <td>HABITAT COFFEE SHOP</td>\n",
       "      <td>3708 N EAGLE ROCK BLVD</td>\n",
       "      <td>False</td>\n",
       "      <td>Cafe</td>\n",
       "      <td>26</td>\n",
       "    </tr>\n",
       "    <tr>\n",
       "      <td>1</td>\n",
       "      <td>11787</td>\n",
       "      <td>REILLY'S</td>\n",
       "      <td>100 WORLD WAY # 120</td>\n",
       "      <td>False</td>\n",
       "      <td>Restaurant</td>\n",
       "      <td>9</td>\n",
       "    </tr>\n",
       "    <tr>\n",
       "      <td>2</td>\n",
       "      <td>11788</td>\n",
       "      <td>STREET CHURROS</td>\n",
       "      <td>6801 HOLLYWOOD BLVD # 253</td>\n",
       "      <td>False</td>\n",
       "      <td>Fast Food</td>\n",
       "      <td>20</td>\n",
       "    </tr>\n",
       "    <tr>\n",
       "      <td>3</td>\n",
       "      <td>11789</td>\n",
       "      <td>TRINITI ECHO PARK</td>\n",
       "      <td>1814 W SUNSET BLVD</td>\n",
       "      <td>False</td>\n",
       "      <td>Restaurant</td>\n",
       "      <td>22</td>\n",
       "    </tr>\n",
       "    <tr>\n",
       "      <td>4</td>\n",
       "      <td>11790</td>\n",
       "      <td>POLLEN</td>\n",
       "      <td>2100 ECHO PARK AVE</td>\n",
       "      <td>False</td>\n",
       "      <td>Restaurant</td>\n",
       "      <td>20</td>\n",
       "    </tr>\n",
       "  </tbody>\n",
       "</table>\n",
       "</div>"
      ],
      "text/plain": [
       "      id          object_name                    address  chain object_type  \\\n",
       "0  11786  HABITAT COFFEE SHOP     3708 N EAGLE ROCK BLVD  False        Cafe   \n",
       "1  11787             REILLY'S        100 WORLD WAY # 120  False  Restaurant   \n",
       "2  11788       STREET CHURROS  6801 HOLLYWOOD BLVD # 253  False   Fast Food   \n",
       "3  11789    TRINITI ECHO PARK         1814 W SUNSET BLVD  False  Restaurant   \n",
       "4  11790               POLLEN         2100 ECHO PARK AVE  False  Restaurant   \n",
       "\n",
       "   number  \n",
       "0      26  \n",
       "1       9  \n",
       "2      20  \n",
       "3      22  \n",
       "4      20  "
      ]
     },
     "execution_count": 4,
     "metadata": {},
     "output_type": "execute_result"
    }
   ],
   "source": [
    "df_data.head()"
   ]
  },
  {
   "cell_type": "code",
   "execution_count": 5,
   "metadata": {},
   "outputs": [],
   "source": [
    "# function to determine if columns in file have null values:\n",
    "def get_percent_of_na(df, num):\n",
    "    count = 0; # first reset counter.\n",
    "    df = df.copy() # copy dataframe in new structure.\n",
    "    amount = (df.isna().sum() / df.shape[0])\n",
    "    \n",
    "    for column, percent in zip(amount.index, amount.values):\n",
    "        num_of_nulls = df[column].isna().sum()\n",
    "        if num_of_nulls == 0:\n",
    "            continue\n",
    "        else:\n",
    "            count += 1\n",
    "        print('Column {} has {:.{}%} percent of Nulls, and {} of nulls'.format(column, percent, num, num_of_nulls))\n",
    "        \n",
    "    if count != 0:\n",
    "        print('\\033[1m' + 'There are {} columns with NA.'.format(count) + '\\033[0m')\n",
    "    else: \n",
    "        print()\n",
    "        print('\\033[1m' + 'There are no columns with NA.' + '\\033[0m')"
   ]
  },
  {
   "cell_type": "code",
   "execution_count": 6,
   "metadata": {},
   "outputs": [],
   "source": [
    "def get_percent_of_na_table(df, num):\n",
    "    df_nulls = pd.DataFrame(df.isna().sum(), columns=['Missing Values'])\n",
    "    df_nulls['Percent of Nulls'] = round(df_nulls['Missing Values'] / df.shape[0], num) * 100\n",
    "    return df_nulls"
   ]
  },
  {
   "cell_type": "code",
   "execution_count": 7,
   "metadata": {},
   "outputs": [],
   "source": [
    "# function to display helpfull information about each file.\n",
    "def get_info(df):\n",
    "    print('Head:')\n",
    "    display(df.head())\n",
    "    print('-'*110)\n",
    "    \n",
    "    print('Info:')\n",
    "    display(df.info())\n",
    "    print('-'*110)\n",
    "    \n",
    "    print('Describe:')\n",
    "    display(df.describe())\n",
    "    display(df.describe(include=['category', 'object', 'float64']))\n",
    "    print('-'*110)\n",
    "    \n",
    "    print('Percent of columns with nulls:')\n",
    "    display(get_percent_of_na_table(df, 2))\n",
    "    print('-'*110)\n",
    "    \n",
    "    print('Shape:')\n",
    "    print(df.shape)\n",
    "    print('-'*110)\n",
    "    \n",
    "    print('Duplicated:')\n",
    "    print('\\033[1m' + 'We have {} duplicated rows. \\n'.format(df.duplicated().sum()) + '\\033[0m')\n",
    "    print('/'*110)"
   ]
  },
  {
   "cell_type": "code",
   "execution_count": 8,
   "metadata": {},
   "outputs": [
    {
     "name": "stdout",
     "output_type": "stream",
     "text": [
      "Head:\n"
     ]
    },
    {
     "data": {
      "text/html": [
       "<div>\n",
       "<style scoped>\n",
       "    .dataframe tbody tr th:only-of-type {\n",
       "        vertical-align: middle;\n",
       "    }\n",
       "\n",
       "    .dataframe tbody tr th {\n",
       "        vertical-align: top;\n",
       "    }\n",
       "\n",
       "    .dataframe thead th {\n",
       "        text-align: right;\n",
       "    }\n",
       "</style>\n",
       "<table border=\"1\" class=\"dataframe\">\n",
       "  <thead>\n",
       "    <tr style=\"text-align: right;\">\n",
       "      <th></th>\n",
       "      <th>id</th>\n",
       "      <th>object_name</th>\n",
       "      <th>address</th>\n",
       "      <th>chain</th>\n",
       "      <th>object_type</th>\n",
       "      <th>number</th>\n",
       "    </tr>\n",
       "  </thead>\n",
       "  <tbody>\n",
       "    <tr>\n",
       "      <td>0</td>\n",
       "      <td>11786</td>\n",
       "      <td>HABITAT COFFEE SHOP</td>\n",
       "      <td>3708 N EAGLE ROCK BLVD</td>\n",
       "      <td>False</td>\n",
       "      <td>Cafe</td>\n",
       "      <td>26</td>\n",
       "    </tr>\n",
       "    <tr>\n",
       "      <td>1</td>\n",
       "      <td>11787</td>\n",
       "      <td>REILLY'S</td>\n",
       "      <td>100 WORLD WAY # 120</td>\n",
       "      <td>False</td>\n",
       "      <td>Restaurant</td>\n",
       "      <td>9</td>\n",
       "    </tr>\n",
       "    <tr>\n",
       "      <td>2</td>\n",
       "      <td>11788</td>\n",
       "      <td>STREET CHURROS</td>\n",
       "      <td>6801 HOLLYWOOD BLVD # 253</td>\n",
       "      <td>False</td>\n",
       "      <td>Fast Food</td>\n",
       "      <td>20</td>\n",
       "    </tr>\n",
       "    <tr>\n",
       "      <td>3</td>\n",
       "      <td>11789</td>\n",
       "      <td>TRINITI ECHO PARK</td>\n",
       "      <td>1814 W SUNSET BLVD</td>\n",
       "      <td>False</td>\n",
       "      <td>Restaurant</td>\n",
       "      <td>22</td>\n",
       "    </tr>\n",
       "    <tr>\n",
       "      <td>4</td>\n",
       "      <td>11790</td>\n",
       "      <td>POLLEN</td>\n",
       "      <td>2100 ECHO PARK AVE</td>\n",
       "      <td>False</td>\n",
       "      <td>Restaurant</td>\n",
       "      <td>20</td>\n",
       "    </tr>\n",
       "  </tbody>\n",
       "</table>\n",
       "</div>"
      ],
      "text/plain": [
       "      id          object_name                    address  chain object_type  \\\n",
       "0  11786  HABITAT COFFEE SHOP     3708 N EAGLE ROCK BLVD  False        Cafe   \n",
       "1  11787             REILLY'S        100 WORLD WAY # 120  False  Restaurant   \n",
       "2  11788       STREET CHURROS  6801 HOLLYWOOD BLVD # 253  False   Fast Food   \n",
       "3  11789    TRINITI ECHO PARK         1814 W SUNSET BLVD  False  Restaurant   \n",
       "4  11790               POLLEN         2100 ECHO PARK AVE  False  Restaurant   \n",
       "\n",
       "   number  \n",
       "0      26  \n",
       "1       9  \n",
       "2      20  \n",
       "3      22  \n",
       "4      20  "
      ]
     },
     "metadata": {},
     "output_type": "display_data"
    },
    {
     "name": "stdout",
     "output_type": "stream",
     "text": [
      "--------------------------------------------------------------------------------------------------------------\n",
      "Info:\n",
      "<class 'pandas.core.frame.DataFrame'>\n",
      "RangeIndex: 9651 entries, 0 to 9650\n",
      "Data columns (total 6 columns):\n",
      "id             9651 non-null int64\n",
      "object_name    9651 non-null object\n",
      "address        9651 non-null object\n",
      "chain          9648 non-null object\n",
      "object_type    9651 non-null object\n",
      "number         9651 non-null int64\n",
      "dtypes: int64(2), object(4)\n",
      "memory usage: 452.5+ KB\n"
     ]
    },
    {
     "data": {
      "text/plain": [
       "None"
      ]
     },
     "metadata": {},
     "output_type": "display_data"
    },
    {
     "name": "stdout",
     "output_type": "stream",
     "text": [
      "--------------------------------------------------------------------------------------------------------------\n",
      "Describe:\n"
     ]
    },
    {
     "data": {
      "text/html": [
       "<div>\n",
       "<style scoped>\n",
       "    .dataframe tbody tr th:only-of-type {\n",
       "        vertical-align: middle;\n",
       "    }\n",
       "\n",
       "    .dataframe tbody tr th {\n",
       "        vertical-align: top;\n",
       "    }\n",
       "\n",
       "    .dataframe thead th {\n",
       "        text-align: right;\n",
       "    }\n",
       "</style>\n",
       "<table border=\"1\" class=\"dataframe\">\n",
       "  <thead>\n",
       "    <tr style=\"text-align: right;\">\n",
       "      <th></th>\n",
       "      <th>id</th>\n",
       "      <th>number</th>\n",
       "    </tr>\n",
       "  </thead>\n",
       "  <tbody>\n",
       "    <tr>\n",
       "      <td>count</td>\n",
       "      <td>9651.000000</td>\n",
       "      <td>9651.000000</td>\n",
       "    </tr>\n",
       "    <tr>\n",
       "      <td>mean</td>\n",
       "      <td>16611.000000</td>\n",
       "      <td>43.695161</td>\n",
       "    </tr>\n",
       "    <tr>\n",
       "      <td>std</td>\n",
       "      <td>2786.148058</td>\n",
       "      <td>47.622874</td>\n",
       "    </tr>\n",
       "    <tr>\n",
       "      <td>min</td>\n",
       "      <td>11786.000000</td>\n",
       "      <td>1.000000</td>\n",
       "    </tr>\n",
       "    <tr>\n",
       "      <td>25%</td>\n",
       "      <td>14198.500000</td>\n",
       "      <td>14.000000</td>\n",
       "    </tr>\n",
       "    <tr>\n",
       "      <td>50%</td>\n",
       "      <td>16611.000000</td>\n",
       "      <td>27.000000</td>\n",
       "    </tr>\n",
       "    <tr>\n",
       "      <td>75%</td>\n",
       "      <td>19023.500000</td>\n",
       "      <td>46.000000</td>\n",
       "    </tr>\n",
       "    <tr>\n",
       "      <td>max</td>\n",
       "      <td>21436.000000</td>\n",
       "      <td>229.000000</td>\n",
       "    </tr>\n",
       "  </tbody>\n",
       "</table>\n",
       "</div>"
      ],
      "text/plain": [
       "                 id       number\n",
       "count   9651.000000  9651.000000\n",
       "mean   16611.000000    43.695161\n",
       "std     2786.148058    47.622874\n",
       "min    11786.000000     1.000000\n",
       "25%    14198.500000    14.000000\n",
       "50%    16611.000000    27.000000\n",
       "75%    19023.500000    46.000000\n",
       "max    21436.000000   229.000000"
      ]
     },
     "metadata": {},
     "output_type": "display_data"
    },
    {
     "data": {
      "text/html": [
       "<div>\n",
       "<style scoped>\n",
       "    .dataframe tbody tr th:only-of-type {\n",
       "        vertical-align: middle;\n",
       "    }\n",
       "\n",
       "    .dataframe tbody tr th {\n",
       "        vertical-align: top;\n",
       "    }\n",
       "\n",
       "    .dataframe thead th {\n",
       "        text-align: right;\n",
       "    }\n",
       "</style>\n",
       "<table border=\"1\" class=\"dataframe\">\n",
       "  <thead>\n",
       "    <tr style=\"text-align: right;\">\n",
       "      <th></th>\n",
       "      <th>object_name</th>\n",
       "      <th>address</th>\n",
       "      <th>chain</th>\n",
       "      <th>object_type</th>\n",
       "    </tr>\n",
       "  </thead>\n",
       "  <tbody>\n",
       "    <tr>\n",
       "      <td>count</td>\n",
       "      <td>9651</td>\n",
       "      <td>9651</td>\n",
       "      <td>9648</td>\n",
       "      <td>9651</td>\n",
       "    </tr>\n",
       "    <tr>\n",
       "      <td>unique</td>\n",
       "      <td>8672</td>\n",
       "      <td>8517</td>\n",
       "      <td>2</td>\n",
       "      <td>6</td>\n",
       "    </tr>\n",
       "    <tr>\n",
       "      <td>top</td>\n",
       "      <td>THE COFFEE BEAN &amp; TEA LEAF</td>\n",
       "      <td>3607 TROUSDALE PKWY</td>\n",
       "      <td>False</td>\n",
       "      <td>Restaurant</td>\n",
       "    </tr>\n",
       "    <tr>\n",
       "      <td>freq</td>\n",
       "      <td>47</td>\n",
       "      <td>11</td>\n",
       "      <td>5972</td>\n",
       "      <td>7255</td>\n",
       "    </tr>\n",
       "  </tbody>\n",
       "</table>\n",
       "</div>"
      ],
      "text/plain": [
       "                       object_name              address  chain object_type\n",
       "count                         9651                 9651   9648        9651\n",
       "unique                        8672                 8517      2           6\n",
       "top     THE COFFEE BEAN & TEA LEAF  3607 TROUSDALE PKWY  False  Restaurant\n",
       "freq                            47                   11   5972        7255"
      ]
     },
     "metadata": {},
     "output_type": "display_data"
    },
    {
     "name": "stdout",
     "output_type": "stream",
     "text": [
      "--------------------------------------------------------------------------------------------------------------\n",
      "Percent of columns with nulls:\n"
     ]
    },
    {
     "data": {
      "text/html": [
       "<div>\n",
       "<style scoped>\n",
       "    .dataframe tbody tr th:only-of-type {\n",
       "        vertical-align: middle;\n",
       "    }\n",
       "\n",
       "    .dataframe tbody tr th {\n",
       "        vertical-align: top;\n",
       "    }\n",
       "\n",
       "    .dataframe thead th {\n",
       "        text-align: right;\n",
       "    }\n",
       "</style>\n",
       "<table border=\"1\" class=\"dataframe\">\n",
       "  <thead>\n",
       "    <tr style=\"text-align: right;\">\n",
       "      <th></th>\n",
       "      <th>Missing Values</th>\n",
       "      <th>Percent of Nulls</th>\n",
       "    </tr>\n",
       "  </thead>\n",
       "  <tbody>\n",
       "    <tr>\n",
       "      <td>id</td>\n",
       "      <td>0</td>\n",
       "      <td>0.0</td>\n",
       "    </tr>\n",
       "    <tr>\n",
       "      <td>object_name</td>\n",
       "      <td>0</td>\n",
       "      <td>0.0</td>\n",
       "    </tr>\n",
       "    <tr>\n",
       "      <td>address</td>\n",
       "      <td>0</td>\n",
       "      <td>0.0</td>\n",
       "    </tr>\n",
       "    <tr>\n",
       "      <td>chain</td>\n",
       "      <td>3</td>\n",
       "      <td>0.0</td>\n",
       "    </tr>\n",
       "    <tr>\n",
       "      <td>object_type</td>\n",
       "      <td>0</td>\n",
       "      <td>0.0</td>\n",
       "    </tr>\n",
       "    <tr>\n",
       "      <td>number</td>\n",
       "      <td>0</td>\n",
       "      <td>0.0</td>\n",
       "    </tr>\n",
       "  </tbody>\n",
       "</table>\n",
       "</div>"
      ],
      "text/plain": [
       "             Missing Values  Percent of Nulls\n",
       "id                        0               0.0\n",
       "object_name               0               0.0\n",
       "address                   0               0.0\n",
       "chain                     3               0.0\n",
       "object_type               0               0.0\n",
       "number                    0               0.0"
      ]
     },
     "metadata": {},
     "output_type": "display_data"
    },
    {
     "name": "stdout",
     "output_type": "stream",
     "text": [
      "--------------------------------------------------------------------------------------------------------------\n",
      "Shape:\n",
      "(9651, 6)\n",
      "--------------------------------------------------------------------------------------------------------------\n",
      "Duplicated:\n",
      "\u001b[1mWe have 0 duplicated rows. \n",
      "\u001b[0m\n",
      "//////////////////////////////////////////////////////////////////////////////////////////////////////////////\n"
     ]
    }
   ],
   "source": [
    "get_info(df_data)"
   ]
  },
  {
   "cell_type": "markdown",
   "metadata": {},
   "source": [
    "<div class=\"alert alert-block alert-success\">\n",
    "    <h2>Reviewer's commentary <a class=\"tocSkip\"> </h2>\n",
    "    <br/>\n",
    "<b>Well done!👍:</b> \n",
    "        \n",
    "Ok, Kamil, you created a rather effective and really useful functions, a big plus for them! And yes, you checked the main moments at this step, good job!"
   ]
  },
  {
   "cell_type": "markdown",
   "metadata": {},
   "source": [
    "<div class=\"alert alert-block alert-warning\">\n",
    "   <h2>Reviewer's commentary <a class=\"tocSkip\"> </h2>\n",
    "    <br/>\n",
    "<b>Remarks and recommendations📌:</b>  \n",
    "    \n",
    "You can look at the missing valeus percentage using this code too:\n",
    "    \n",
    "`data.isna().sum()*100/len(data)`\n",
    "       \n",
    "`data.isna().mean() * 100`\n",
    "       \n",
    "`pd.DataFrame(round((data.isna().mean()*100),2)).style.background_gradient('coolwarm')`\n",
    "\n",
    "Or like this:\n",
    "    \n",
    "`report = data.isna().sum().to_frame()\n",
    "report = report.rename(columns = {0: 'missing_values'})\n",
    "report['% of total'] = (report['missing_values'] / data.shape[0]).round(2)\n",
    "report.sort_values(by = 'missing_values', ascending = False)`"
   ]
  },
  {
   "cell_type": "markdown",
   "metadata": {},
   "source": [
    "<div class=\"alert alert-block alert-warning\">\n",
    "   <h2>Reviewer's commentary <a class=\"tocSkip\"> </h2>\n",
    "    <br/>\n",
    "<b>Remarks and recommendations📌:</b>  \n",
    "       \n",
    "Also there is one rather useful library for working with the data - `side table`, it offeres a great number of effective methods for working with the data, including missing values. More info here:\n",
    "       \n",
    "https://pbpython.com/sidetable.html\n",
    "       \n",
    "https://github.com/chris1610/sidetable"
   ]
  },
  {
   "cell_type": "markdown",
   "metadata": {},
   "source": [
    "<div class=\"alert alert-block alert-warning\">\n",
    "   <h2>Reviewer's commentary <a class=\"tocSkip\"> </h2>\n",
    "    <br/>\n",
    "<b>Remarks and recommendations📌:</b>  \n",
    "       \n",
    "As for dublicated values: we can have the situation of the full dublicated values and partly dublicated values in our data. So, it is better to check the dataset for occurence of such partly dublicated values. For example, we can have the same name restaurants that are all located at different addresses. So, you need to check number of restaurants with different integer ids, but same name and same address. "
   ]
  },
  {
   "cell_type": "markdown",
   "metadata": {},
   "source": [
    "> * According to general information, the dataset does not have duplicate data.\n",
    "> * But has 3 missing values in the \"chain\" column."
   ]
  },
  {
   "cell_type": "code",
   "execution_count": 9,
   "metadata": {},
   "outputs": [
    {
     "data": {
      "text/html": [
       "<div>\n",
       "<style scoped>\n",
       "    .dataframe tbody tr th:only-of-type {\n",
       "        vertical-align: middle;\n",
       "    }\n",
       "\n",
       "    .dataframe tbody tr th {\n",
       "        vertical-align: top;\n",
       "    }\n",
       "\n",
       "    .dataframe thead th {\n",
       "        text-align: right;\n",
       "    }\n",
       "</style>\n",
       "<table border=\"1\" class=\"dataframe\">\n",
       "  <thead>\n",
       "    <tr style=\"text-align: right;\">\n",
       "      <th></th>\n",
       "      <th>id</th>\n",
       "      <th>object_name</th>\n",
       "      <th>address</th>\n",
       "      <th>chain</th>\n",
       "      <th>object_type</th>\n",
       "      <th>number</th>\n",
       "    </tr>\n",
       "  </thead>\n",
       "  <tbody>\n",
       "    <tr>\n",
       "      <td>7408</td>\n",
       "      <td>19194</td>\n",
       "      <td>TAQUERIA LOS 3 CARNALES</td>\n",
       "      <td>5000 E WHITTIER BLVD</td>\n",
       "      <td>NaN</td>\n",
       "      <td>Restaurant</td>\n",
       "      <td>14</td>\n",
       "    </tr>\n",
       "    <tr>\n",
       "      <td>7523</td>\n",
       "      <td>19309</td>\n",
       "      <td>JAMMIN JIMMY'S PIZZA</td>\n",
       "      <td>1641 FIRESTONE BLVD</td>\n",
       "      <td>NaN</td>\n",
       "      <td>Pizza</td>\n",
       "      <td>1</td>\n",
       "    </tr>\n",
       "    <tr>\n",
       "      <td>8648</td>\n",
       "      <td>20434</td>\n",
       "      <td>THE LEXINGTON THEATER</td>\n",
       "      <td>129 E 3RD ST</td>\n",
       "      <td>NaN</td>\n",
       "      <td>Restaurant</td>\n",
       "      <td>35</td>\n",
       "    </tr>\n",
       "  </tbody>\n",
       "</table>\n",
       "</div>"
      ],
      "text/plain": [
       "         id              object_name               address chain object_type  \\\n",
       "7408  19194  TAQUERIA LOS 3 CARNALES  5000 E WHITTIER BLVD   NaN  Restaurant   \n",
       "7523  19309     JAMMIN JIMMY'S PIZZA   1641 FIRESTONE BLVD   NaN       Pizza   \n",
       "8648  20434    THE LEXINGTON THEATER          129 E 3RD ST   NaN  Restaurant   \n",
       "\n",
       "      number  \n",
       "7408      14  \n",
       "7523       1  \n",
       "8648      35  "
      ]
     },
     "execution_count": 9,
     "metadata": {},
     "output_type": "execute_result"
    }
   ],
   "source": [
    "df_data[df_data['chain'].isnull()]"
   ]
  },
  {
   "cell_type": "code",
   "execution_count": 10,
   "metadata": {},
   "outputs": [
    {
     "data": {
      "text/plain": [
       "count      9648\n",
       "unique        2\n",
       "top       False\n",
       "freq       5972\n",
       "Name: chain, dtype: object"
      ]
     },
     "execution_count": 10,
     "metadata": {},
     "output_type": "execute_result"
    }
   ],
   "source": [
    "df_data['chain'].describe()"
   ]
  },
  {
   "cell_type": "markdown",
   "metadata": {},
   "source": [
    "> * According to initial data, more than half of the establishments have no chains.\n",
    "> * Therefore, for the missing values, we will use that there are no chains for these establishments."
   ]
  },
  {
   "cell_type": "code",
   "execution_count": 11,
   "metadata": {},
   "outputs": [
    {
     "data": {
      "text/plain": [
       "0    False\n",
       "dtype: object"
      ]
     },
     "execution_count": 11,
     "metadata": {},
     "output_type": "execute_result"
    }
   ],
   "source": [
    "df_data['chain'].mode()"
   ]
  },
  {
   "cell_type": "code",
   "execution_count": 12,
   "metadata": {},
   "outputs": [],
   "source": [
    "# Since the variable 'chain' contains boolean values, and it is missing only 3 out of 9648 values, I will replace the missing values with zeros.\n",
    "df_data['chain'] = df_data['chain'].fillna(df_data['chain'].mode()[0])"
   ]
  },
  {
   "cell_type": "markdown",
   "metadata": {},
   "source": [
    "<div class=\"alert alert-block alert-success\">\n",
    "    <h2>Reviewer's commentary <a class=\"tocSkip\"> </h2>\n",
    "    <br/>\n",
    "<b>Well done!👍:</b> \n",
    "        \n",
    "Ok, this strategy can be appropriate here!"
   ]
  },
  {
   "cell_type": "code",
   "execution_count": 13,
   "metadata": {},
   "outputs": [
    {
     "name": "stdout",
     "output_type": "stream",
     "text": [
      "Head:\n"
     ]
    },
    {
     "data": {
      "text/html": [
       "<div>\n",
       "<style scoped>\n",
       "    .dataframe tbody tr th:only-of-type {\n",
       "        vertical-align: middle;\n",
       "    }\n",
       "\n",
       "    .dataframe tbody tr th {\n",
       "        vertical-align: top;\n",
       "    }\n",
       "\n",
       "    .dataframe thead th {\n",
       "        text-align: right;\n",
       "    }\n",
       "</style>\n",
       "<table border=\"1\" class=\"dataframe\">\n",
       "  <thead>\n",
       "    <tr style=\"text-align: right;\">\n",
       "      <th></th>\n",
       "      <th>id</th>\n",
       "      <th>object_name</th>\n",
       "      <th>address</th>\n",
       "      <th>chain</th>\n",
       "      <th>object_type</th>\n",
       "      <th>number</th>\n",
       "    </tr>\n",
       "  </thead>\n",
       "  <tbody>\n",
       "    <tr>\n",
       "      <td>0</td>\n",
       "      <td>11786</td>\n",
       "      <td>HABITAT COFFEE SHOP</td>\n",
       "      <td>3708 N EAGLE ROCK BLVD</td>\n",
       "      <td>False</td>\n",
       "      <td>Cafe</td>\n",
       "      <td>26</td>\n",
       "    </tr>\n",
       "    <tr>\n",
       "      <td>1</td>\n",
       "      <td>11787</td>\n",
       "      <td>REILLY'S</td>\n",
       "      <td>100 WORLD WAY # 120</td>\n",
       "      <td>False</td>\n",
       "      <td>Restaurant</td>\n",
       "      <td>9</td>\n",
       "    </tr>\n",
       "    <tr>\n",
       "      <td>2</td>\n",
       "      <td>11788</td>\n",
       "      <td>STREET CHURROS</td>\n",
       "      <td>6801 HOLLYWOOD BLVD # 253</td>\n",
       "      <td>False</td>\n",
       "      <td>Fast Food</td>\n",
       "      <td>20</td>\n",
       "    </tr>\n",
       "    <tr>\n",
       "      <td>3</td>\n",
       "      <td>11789</td>\n",
       "      <td>TRINITI ECHO PARK</td>\n",
       "      <td>1814 W SUNSET BLVD</td>\n",
       "      <td>False</td>\n",
       "      <td>Restaurant</td>\n",
       "      <td>22</td>\n",
       "    </tr>\n",
       "    <tr>\n",
       "      <td>4</td>\n",
       "      <td>11790</td>\n",
       "      <td>POLLEN</td>\n",
       "      <td>2100 ECHO PARK AVE</td>\n",
       "      <td>False</td>\n",
       "      <td>Restaurant</td>\n",
       "      <td>20</td>\n",
       "    </tr>\n",
       "  </tbody>\n",
       "</table>\n",
       "</div>"
      ],
      "text/plain": [
       "      id          object_name                    address  chain object_type  \\\n",
       "0  11786  HABITAT COFFEE SHOP     3708 N EAGLE ROCK BLVD  False        Cafe   \n",
       "1  11787             REILLY'S        100 WORLD WAY # 120  False  Restaurant   \n",
       "2  11788       STREET CHURROS  6801 HOLLYWOOD BLVD # 253  False   Fast Food   \n",
       "3  11789    TRINITI ECHO PARK         1814 W SUNSET BLVD  False  Restaurant   \n",
       "4  11790               POLLEN         2100 ECHO PARK AVE  False  Restaurant   \n",
       "\n",
       "   number  \n",
       "0      26  \n",
       "1       9  \n",
       "2      20  \n",
       "3      22  \n",
       "4      20  "
      ]
     },
     "metadata": {},
     "output_type": "display_data"
    },
    {
     "name": "stdout",
     "output_type": "stream",
     "text": [
      "--------------------------------------------------------------------------------------------------------------\n",
      "Info:\n",
      "<class 'pandas.core.frame.DataFrame'>\n",
      "RangeIndex: 9651 entries, 0 to 9650\n",
      "Data columns (total 6 columns):\n",
      "id             9651 non-null int64\n",
      "object_name    9651 non-null object\n",
      "address        9651 non-null object\n",
      "chain          9651 non-null bool\n",
      "object_type    9651 non-null object\n",
      "number         9651 non-null int64\n",
      "dtypes: bool(1), int64(2), object(3)\n",
      "memory usage: 386.5+ KB\n"
     ]
    },
    {
     "data": {
      "text/plain": [
       "None"
      ]
     },
     "metadata": {},
     "output_type": "display_data"
    },
    {
     "name": "stdout",
     "output_type": "stream",
     "text": [
      "--------------------------------------------------------------------------------------------------------------\n",
      "Describe:\n"
     ]
    },
    {
     "data": {
      "text/html": [
       "<div>\n",
       "<style scoped>\n",
       "    .dataframe tbody tr th:only-of-type {\n",
       "        vertical-align: middle;\n",
       "    }\n",
       "\n",
       "    .dataframe tbody tr th {\n",
       "        vertical-align: top;\n",
       "    }\n",
       "\n",
       "    .dataframe thead th {\n",
       "        text-align: right;\n",
       "    }\n",
       "</style>\n",
       "<table border=\"1\" class=\"dataframe\">\n",
       "  <thead>\n",
       "    <tr style=\"text-align: right;\">\n",
       "      <th></th>\n",
       "      <th>id</th>\n",
       "      <th>number</th>\n",
       "    </tr>\n",
       "  </thead>\n",
       "  <tbody>\n",
       "    <tr>\n",
       "      <td>count</td>\n",
       "      <td>9651.000000</td>\n",
       "      <td>9651.000000</td>\n",
       "    </tr>\n",
       "    <tr>\n",
       "      <td>mean</td>\n",
       "      <td>16611.000000</td>\n",
       "      <td>43.695161</td>\n",
       "    </tr>\n",
       "    <tr>\n",
       "      <td>std</td>\n",
       "      <td>2786.148058</td>\n",
       "      <td>47.622874</td>\n",
       "    </tr>\n",
       "    <tr>\n",
       "      <td>min</td>\n",
       "      <td>11786.000000</td>\n",
       "      <td>1.000000</td>\n",
       "    </tr>\n",
       "    <tr>\n",
       "      <td>25%</td>\n",
       "      <td>14198.500000</td>\n",
       "      <td>14.000000</td>\n",
       "    </tr>\n",
       "    <tr>\n",
       "      <td>50%</td>\n",
       "      <td>16611.000000</td>\n",
       "      <td>27.000000</td>\n",
       "    </tr>\n",
       "    <tr>\n",
       "      <td>75%</td>\n",
       "      <td>19023.500000</td>\n",
       "      <td>46.000000</td>\n",
       "    </tr>\n",
       "    <tr>\n",
       "      <td>max</td>\n",
       "      <td>21436.000000</td>\n",
       "      <td>229.000000</td>\n",
       "    </tr>\n",
       "  </tbody>\n",
       "</table>\n",
       "</div>"
      ],
      "text/plain": [
       "                 id       number\n",
       "count   9651.000000  9651.000000\n",
       "mean   16611.000000    43.695161\n",
       "std     2786.148058    47.622874\n",
       "min    11786.000000     1.000000\n",
       "25%    14198.500000    14.000000\n",
       "50%    16611.000000    27.000000\n",
       "75%    19023.500000    46.000000\n",
       "max    21436.000000   229.000000"
      ]
     },
     "metadata": {},
     "output_type": "display_data"
    },
    {
     "data": {
      "text/html": [
       "<div>\n",
       "<style scoped>\n",
       "    .dataframe tbody tr th:only-of-type {\n",
       "        vertical-align: middle;\n",
       "    }\n",
       "\n",
       "    .dataframe tbody tr th {\n",
       "        vertical-align: top;\n",
       "    }\n",
       "\n",
       "    .dataframe thead th {\n",
       "        text-align: right;\n",
       "    }\n",
       "</style>\n",
       "<table border=\"1\" class=\"dataframe\">\n",
       "  <thead>\n",
       "    <tr style=\"text-align: right;\">\n",
       "      <th></th>\n",
       "      <th>object_name</th>\n",
       "      <th>address</th>\n",
       "      <th>object_type</th>\n",
       "    </tr>\n",
       "  </thead>\n",
       "  <tbody>\n",
       "    <tr>\n",
       "      <td>count</td>\n",
       "      <td>9651</td>\n",
       "      <td>9651</td>\n",
       "      <td>9651</td>\n",
       "    </tr>\n",
       "    <tr>\n",
       "      <td>unique</td>\n",
       "      <td>8672</td>\n",
       "      <td>8517</td>\n",
       "      <td>6</td>\n",
       "    </tr>\n",
       "    <tr>\n",
       "      <td>top</td>\n",
       "      <td>THE COFFEE BEAN &amp; TEA LEAF</td>\n",
       "      <td>3607 TROUSDALE PKWY</td>\n",
       "      <td>Restaurant</td>\n",
       "    </tr>\n",
       "    <tr>\n",
       "      <td>freq</td>\n",
       "      <td>47</td>\n",
       "      <td>11</td>\n",
       "      <td>7255</td>\n",
       "    </tr>\n",
       "  </tbody>\n",
       "</table>\n",
       "</div>"
      ],
      "text/plain": [
       "                       object_name              address object_type\n",
       "count                         9651                 9651        9651\n",
       "unique                        8672                 8517           6\n",
       "top     THE COFFEE BEAN & TEA LEAF  3607 TROUSDALE PKWY  Restaurant\n",
       "freq                            47                   11        7255"
      ]
     },
     "metadata": {},
     "output_type": "display_data"
    },
    {
     "name": "stdout",
     "output_type": "stream",
     "text": [
      "--------------------------------------------------------------------------------------------------------------\n",
      "Percent of columns with nulls:\n"
     ]
    },
    {
     "data": {
      "text/html": [
       "<div>\n",
       "<style scoped>\n",
       "    .dataframe tbody tr th:only-of-type {\n",
       "        vertical-align: middle;\n",
       "    }\n",
       "\n",
       "    .dataframe tbody tr th {\n",
       "        vertical-align: top;\n",
       "    }\n",
       "\n",
       "    .dataframe thead th {\n",
       "        text-align: right;\n",
       "    }\n",
       "</style>\n",
       "<table border=\"1\" class=\"dataframe\">\n",
       "  <thead>\n",
       "    <tr style=\"text-align: right;\">\n",
       "      <th></th>\n",
       "      <th>Missing Values</th>\n",
       "      <th>Percent of Nulls</th>\n",
       "    </tr>\n",
       "  </thead>\n",
       "  <tbody>\n",
       "    <tr>\n",
       "      <td>id</td>\n",
       "      <td>0</td>\n",
       "      <td>0.0</td>\n",
       "    </tr>\n",
       "    <tr>\n",
       "      <td>object_name</td>\n",
       "      <td>0</td>\n",
       "      <td>0.0</td>\n",
       "    </tr>\n",
       "    <tr>\n",
       "      <td>address</td>\n",
       "      <td>0</td>\n",
       "      <td>0.0</td>\n",
       "    </tr>\n",
       "    <tr>\n",
       "      <td>chain</td>\n",
       "      <td>0</td>\n",
       "      <td>0.0</td>\n",
       "    </tr>\n",
       "    <tr>\n",
       "      <td>object_type</td>\n",
       "      <td>0</td>\n",
       "      <td>0.0</td>\n",
       "    </tr>\n",
       "    <tr>\n",
       "      <td>number</td>\n",
       "      <td>0</td>\n",
       "      <td>0.0</td>\n",
       "    </tr>\n",
       "  </tbody>\n",
       "</table>\n",
       "</div>"
      ],
      "text/plain": [
       "             Missing Values  Percent of Nulls\n",
       "id                        0               0.0\n",
       "object_name               0               0.0\n",
       "address                   0               0.0\n",
       "chain                     0               0.0\n",
       "object_type               0               0.0\n",
       "number                    0               0.0"
      ]
     },
     "metadata": {},
     "output_type": "display_data"
    },
    {
     "name": "stdout",
     "output_type": "stream",
     "text": [
      "--------------------------------------------------------------------------------------------------------------\n",
      "Shape:\n",
      "(9651, 6)\n",
      "--------------------------------------------------------------------------------------------------------------\n",
      "Duplicated:\n",
      "\u001b[1mWe have 0 duplicated rows. \n",
      "\u001b[0m\n",
      "//////////////////////////////////////////////////////////////////////////////////////////////////////////////\n"
     ]
    }
   ],
   "source": [
    "get_info(df_data)\n"
   ]
  },
  {
   "cell_type": "markdown",
   "metadata": {},
   "source": [
    "> * According to general information, the dataset does not have duplicate data.\n",
    "> * But has 3 missing values in the \"chain\" column.\n",
    "> * According to initial data, more than half of the establishments have no chains.\n",
    "> * Therefore, for the missing values, we will use that there are no chains for these establishments."
   ]
  },
  {
   "cell_type": "markdown",
   "metadata": {},
   "source": [
    "####  Step 2. Data Analysis <a name=\"DataAnalysis\"></a>"
   ]
  },
  {
   "cell_type": "markdown",
   "metadata": {},
   "source": [
    "- [x] Investigate the proportions of the various types of establishments. Plot a graph."
   ]
  },
  {
   "cell_type": "code",
   "execution_count": 14,
   "metadata": {},
   "outputs": [
    {
     "data": {
      "text/html": [
       "<div>\n",
       "<style scoped>\n",
       "    .dataframe tbody tr th:only-of-type {\n",
       "        vertical-align: middle;\n",
       "    }\n",
       "\n",
       "    .dataframe tbody tr th {\n",
       "        vertical-align: top;\n",
       "    }\n",
       "\n",
       "    .dataframe thead th {\n",
       "        text-align: right;\n",
       "    }\n",
       "</style>\n",
       "<table border=\"1\" class=\"dataframe\">\n",
       "  <thead>\n",
       "    <tr style=\"text-align: right;\">\n",
       "      <th></th>\n",
       "      <th>id</th>\n",
       "      <th>object_name</th>\n",
       "      <th>address</th>\n",
       "      <th>chain</th>\n",
       "      <th>object_type</th>\n",
       "      <th>number</th>\n",
       "    </tr>\n",
       "  </thead>\n",
       "  <tbody>\n",
       "    <tr>\n",
       "      <td>0</td>\n",
       "      <td>11786</td>\n",
       "      <td>HABITAT COFFEE SHOP</td>\n",
       "      <td>3708 N EAGLE ROCK BLVD</td>\n",
       "      <td>False</td>\n",
       "      <td>Cafe</td>\n",
       "      <td>26</td>\n",
       "    </tr>\n",
       "    <tr>\n",
       "      <td>1</td>\n",
       "      <td>11787</td>\n",
       "      <td>REILLY'S</td>\n",
       "      <td>100 WORLD WAY # 120</td>\n",
       "      <td>False</td>\n",
       "      <td>Restaurant</td>\n",
       "      <td>9</td>\n",
       "    </tr>\n",
       "    <tr>\n",
       "      <td>2</td>\n",
       "      <td>11788</td>\n",
       "      <td>STREET CHURROS</td>\n",
       "      <td>6801 HOLLYWOOD BLVD # 253</td>\n",
       "      <td>False</td>\n",
       "      <td>Fast Food</td>\n",
       "      <td>20</td>\n",
       "    </tr>\n",
       "    <tr>\n",
       "      <td>3</td>\n",
       "      <td>11789</td>\n",
       "      <td>TRINITI ECHO PARK</td>\n",
       "      <td>1814 W SUNSET BLVD</td>\n",
       "      <td>False</td>\n",
       "      <td>Restaurant</td>\n",
       "      <td>22</td>\n",
       "    </tr>\n",
       "    <tr>\n",
       "      <td>4</td>\n",
       "      <td>11790</td>\n",
       "      <td>POLLEN</td>\n",
       "      <td>2100 ECHO PARK AVE</td>\n",
       "      <td>False</td>\n",
       "      <td>Restaurant</td>\n",
       "      <td>20</td>\n",
       "    </tr>\n",
       "  </tbody>\n",
       "</table>\n",
       "</div>"
      ],
      "text/plain": [
       "      id          object_name                    address  chain object_type  \\\n",
       "0  11786  HABITAT COFFEE SHOP     3708 N EAGLE ROCK BLVD  False        Cafe   \n",
       "1  11787             REILLY'S        100 WORLD WAY # 120  False  Restaurant   \n",
       "2  11788       STREET CHURROS  6801 HOLLYWOOD BLVD # 253  False   Fast Food   \n",
       "3  11789    TRINITI ECHO PARK         1814 W SUNSET BLVD  False  Restaurant   \n",
       "4  11790               POLLEN         2100 ECHO PARK AVE  False  Restaurant   \n",
       "\n",
       "   number  \n",
       "0      26  \n",
       "1       9  \n",
       "2      20  \n",
       "3      22  \n",
       "4      20  "
      ]
     },
     "execution_count": 14,
     "metadata": {},
     "output_type": "execute_result"
    }
   ],
   "source": [
    "df_data.head()"
   ]
  },
  {
   "cell_type": "code",
   "execution_count": 15,
   "metadata": {},
   "outputs": [
    {
     "data": {
      "image/png": "[encoded data removed]",
      "text/plain": [
       "<Figure size 1080x720 with 1 Axes>"
      ]
     },
     "metadata": {},
     "output_type": "display_data"
    }
   ],
   "source": [
    "df_data.groupby(['object_type']).count().plot(\n",
    "    kind='pie', \n",
    "    y='id',\n",
    "    startangle=75,\n",
    "    figsize=(15,10), \n",
    "    autopct='%1.1f%%')\n",
    "\n",
    "plt.title('Types of establishments')\n",
    "plt.show() "
   ]
  },
  {
   "cell_type": "markdown",
   "metadata": {},
   "source": [
    "<div class=\"alert alert-block alert-success\">\n",
    "    <h2>Reviewer's commentary <a class=\"tocSkip\"> </h2>\n",
    "    <br/>\n",
    "<b>Well done!👍:</b> \n",
    "        \n",
    "Ok, it is absolutely correct to calculate the proportion here, good job!"
   ]
  },
  {
   "cell_type": "code",
   "execution_count": 16,
   "metadata": {},
   "outputs": [
    {
     "data": {
      "image/png": "[encoded data removed]",
      "text/plain": [
       "<Figure size 1152x360 with 1 Axes>"
      ]
     },
     "metadata": {
      "needs_background": "light"
     },
     "output_type": "display_data"
    }
   ],
   "source": [
    "df_data.groupby(['object_type']).count().plot(\n",
    "    kind='bar', \n",
    "    y='id',\n",
    "    figsize=(16,5),\n",
    "    grid = True\n",
    ")\n",
    "\n",
    "plt.locs, labels = plt.xticks()\n",
    "plt.setp(labels, rotation=0)\n",
    "plt.title('Types of establishments')\n",
    "plt.ylabel('Amount of establishments')\n",
    "plt.xlabel('Types of establishments')\n",
    "plt.legend()\n",
    "plt.show() "
   ]
  },
  {
   "cell_type": "markdown",
   "metadata": {},
   "source": [
    "> * According to the plotted graphs, it can be seen that the largest part is occupied by restaurants (75.2%) among the types of establishments.\n",
    "> * In second place are establishments such as Fast Food (11.0%).\n",
    "> * And the third most popular is the cafe (4.5%)\n",
    "> * Based on these statistics, we can say that restaurant-type establishments are the most popular. Is this related to the profitability of these establishments? It's hard to say based on these data.\n",
    "> * Yes, I have a hypothesis that restaurants have a more attractive ability for tourists visiting LA. But whether this is based on any facts, I have no confirmation based on the current dataset."
   ]
  },
  {
   "cell_type": "markdown",
   "metadata": {},
   "source": [
    "<div class=\"alert alert-block alert-danger\">\n",
    "    <h2>Reviewer's commentary <a class=\"tocSkip\"> </h2>\n",
    "    <br/>\n",
    "<b>Needs fixing!🤔:</b> \n",
    "        \n",
    "But it it important not to simply state results from the plot, but also try to explain why we have such results. So, can you please try to explain why restaurants are so popular compared to other types of establishments?"
   ]
  },
  {
   "cell_type": "markdown",
   "metadata": {},
   "source": [
    "#### <font color='Purple'>Student's commentary:</font>The current dataset does not provide a complete conclusion as to why restaurants are so popular. Too little information. The dataset does not contain the profits that restaurants are potentially earning. Or at least the average check. All this is not. The main reason for opening catering establishments is to make a profit. There is no information on which to draw conclusions. There are just statistics.<a class=\"tocSkip\"> </div>"
   ]
  },
  {
   "cell_type": "markdown",
   "metadata": {},
   "source": [
    "<div class=\"alert alert-block alert-warning\">\n",
    "   <h2>Reviewer's commentary: second iteration of the review <a class=\"tocSkip\"> </h2>\n",
    "    <br/>\n",
    "<b>Remarks and recommendations📌:</b>  \n",
    "        \n",
    "Ok, as a whole you are right, yes, here we have only dataset and some context. But, to build the hypotheses and explanations you you can use your experience and your knowledge about this area, even if this knowledge is not professional and at this step - is not verified by the concrete facts like restaurants earnings, but based solely on your everyday, personal experience. In the real work, you will not always (almost never) have complete information about the subject of analysis, and here it is important to be able to generate hypotheses and appeal to personal professional and everyday experience."
   ]
  },
  {
   "cell_type": "markdown",
   "metadata": {},
   "source": [
    "* [X] Investigate the proportions of chain and nonchain establishments. Plot a graph."
   ]
  },
  {
   "cell_type": "code",
   "execution_count": 17,
   "metadata": {},
   "outputs": [
    {
     "data": {
      "image/png": "[encoded data removed]",
      "text/plain": [
       "<Figure size 1152x360 with 1 Axes>"
      ]
     },
     "metadata": {
      "needs_background": "light"
     },
     "output_type": "display_data"
    }
   ],
   "source": [
    "df_data['chain'].value_counts(normalize=True).plot(\n",
    "    kind='bar',\n",
    "    figsize=(16,5), \n",
    "    grid=True\n",
    ")\n",
    "plt.locs, labels = plt.xticks()\n",
    "plt.setp(labels, rotation=0)\n",
    "plt.title('Types of establishments with/without chain')\n",
    "plt.ylabel('Proportions of chain/no chain establishments')\n",
    "plt.xlabel('No / Yes chain')\n",
    "plt.legend()\n",
    "plt.show() "
   ]
  },
  {
   "cell_type": "markdown",
   "metadata": {},
   "source": [
    "> * According to the graph, just over 0.6 establishments have no chains and just under 0.4 have chains."
   ]
  },
  {
   "cell_type": "markdown",
   "metadata": {},
   "source": [
    "<div class=\"alert alert-block alert-success\">\n",
    "    <h2>Reviewer's commentary <a class=\"tocSkip\"> </h2>\n",
    "    <br/>\n",
    "<b>Well done!👍:</b> \n",
    "        \n",
    "Ok, the plot is absolutely correct!"
   ]
  },
  {
   "cell_type": "markdown",
   "metadata": {},
   "source": [
    "<div class=\"alert alert-block alert-danger\">\n",
    "    <h2>Reviewer's commentary <a class=\"tocSkip\"> </h2>\n",
    "    <br/>\n",
    "<b>Needs fixing!🤔:</b> \n",
    "        \n",
    "But we try to tell the story, right? So, please, try to explain why the majority of establishments in LA are non-chain types of establishments👀 You can simply build the hypotheses that are based on your experience or assumptions."
   ]
  },
  {
   "cell_type": "markdown",
   "metadata": {},
   "source": [
    "> * The only hypothesis that I can state is that most establishments do not have chains, as LA attracts a large number of tourists. For the tourism industry, individuality and uniqueness are important. Restaurants with chains often don't have that personality.\n",
    "> * Most often, restaurants with a chain are opened as part of a franchise. Thus, they must repeat each other and must be made according to the same pattern and identity."
   ]
  },
  {
   "cell_type": "markdown",
   "metadata": {},
   "source": [
    "<div class=\"alert alert-block alert-success\">\n",
    "    <h2>Reviewer's commentary:second iteration of the review <a class=\"tocSkip\"> </h2>\n",
    "    <br/>\n",
    "<b>Well done!👍:</b> \n",
    "        \n",
    "Ok, I can agree with your assumptions!"
   ]
  },
  {
   "cell_type": "markdown",
   "metadata": {},
   "source": [
    "- [X] Which type of establishment is typically a chain?"
   ]
  },
  {
   "cell_type": "code",
   "execution_count": 18,
   "metadata": {},
   "outputs": [
    {
     "data": {
      "image/png": "[encoded data removed]",
      "text/plain": [
       "<Figure size 1152x720 with 1 Axes>"
      ]
     },
     "metadata": {},
     "output_type": "display_data"
    }
   ],
   "source": [
    "sns.set(style='dark')\n",
    "sns.set_style(\"whitegrid\")\n",
    "plt.figure(figsize=(16,10))\n",
    "ax = sns.countplot(x='object_type', hue='chain', data=df_data)\n",
    "plt.locs, labels = plt.yticks()\n",
    "plt.yticks(np.arange(0, 5100, step=100))\n",
    "plt.title('Chain characteristic')\n",
    "plt.ylabel('Number of establishments')\n",
    "plt.xlabel('Type of object')\n",
    "plt.show()"
   ]
  },
  {
   "cell_type": "code",
   "execution_count": 19,
   "metadata": {},
   "outputs": [
    {
     "data": {
      "text/plain": [
       "object_type  chain\n",
       "Bakery       True      283\n",
       "Bar          False     215\n",
       "             True       77\n",
       "Cafe         True      266\n",
       "             False     169\n",
       "Fast Food    True      605\n",
       "             False     461\n",
       "Pizza        False     167\n",
       "             True      153\n",
       "Restaurant   False    4963\n",
       "             True     2292\n",
       "Name: chain, dtype: int64"
      ]
     },
     "metadata": {},
     "output_type": "display_data"
    },
    {
     "data": {
      "text/plain": [
       "object_type  chain\n",
       "Bakery       True     1.000000\n",
       "Bar          False    0.736301\n",
       "             True     0.263699\n",
       "Cafe         True     0.611494\n",
       "             False    0.388506\n",
       "Fast Food    True     0.567542\n",
       "             False    0.432458\n",
       "Pizza        False    0.521875\n",
       "             True     0.478125\n",
       "Restaurant   False    0.684080\n",
       "             True     0.315920\n",
       "Name: chain, dtype: float64"
      ]
     },
     "metadata": {},
     "output_type": "display_data"
    }
   ],
   "source": [
    "bakery_chain_number     = df_data.groupby('object_type')['chain'].value_counts()\n",
    "bakery_chain_proportion = df_data.groupby('object_type')['chain'].value_counts(normalize=True)\n",
    "display(bakery_chain_number)\n",
    "display(bakery_chain_proportion)"
   ]
  },
  {
   "cell_type": "code",
   "execution_count": 20,
   "metadata": {},
   "outputs": [
    {
     "data": {
      "text/plain": [
       "Restaurant    7255\n",
       "Fast Food     1066\n",
       "Cafe           435\n",
       "Pizza          320\n",
       "Bar            292\n",
       "Bakery         283\n",
       "Name: object_type, dtype: int64"
      ]
     },
     "execution_count": 20,
     "metadata": {},
     "output_type": "execute_result"
    }
   ],
   "source": [
    "df_data['object_type'].value_counts()\n"
   ]
  },
  {
   "cell_type": "markdown",
   "metadata": {},
   "source": [
    "> * According to the data, Restaurants-type establishments without a chain is the largest number of establishments - 4963. \n",
    "Also, restaurants with a chain have the maximum number among other establishments - 2292. It can be concluded that the difference is 2 times.\n",
    "> * Next come Fast Food establishments: with chain - 605, without chain - 461. Here the gap is not so great.\n",
    "> * Next is a Cafe. with chain - 266, without chain - 169. \n",
    "> * Establishments such as a Bakery deserve special attention. All establishments have a chain in it.\n",
    "> * Interesting, I think, is the case of establishments, such as a Pizza - the number of establishments with and without a chain is almost equal. \n",
    "> * The smallest number of establishments where there is a chain is of the Bar type. \n",
    "* Based on these data, I can draw the following general conclusions:\n",
    "* Restaurants and bars - most often they do not have a chain. This confirms the hypothesis that establishments of these types, which have an individual flavor and unique style, are in the greatest demand: interior, unusual serving of dishes, exclusive cuisine, and so on.\n",
    "* Fast foods and cafes most often have a network. This is due to the fact that people in such establishments are most interested in food, and not in the environment, in the form of an interior, unusual serving of dishes, exclusive cuisine, and so on."
   ]
  },
  {
   "cell_type": "markdown",
   "metadata": {},
   "source": [
    "<div class=\"alert alert-block alert-danger\">\n",
    "    <h2>Reviewer's commentary <a class=\"tocSkip\"> </h2>\n",
    "    <br/>\n",
    "<b>Needs fixing!🤔:</b> \n",
    "        \n",
    "At this step it is better to calculate the share of chain establishments out of the total establishments by type, you will find the interesting insight about one of the object type (be more attentive to bakery)"
   ]
  },
  {
   "cell_type": "markdown",
   "metadata": {},
   "source": [
    "<div class=\"alert alert-block alert-success\">\n",
    "    <h2>Reviewer's commentary:second iteration of the review <a class=\"tocSkip\"> </h2>\n",
    "    <br/>\n",
    "<b>Well done!👍:</b> \n",
    "        \n",
    "Ok, bakery is 100% chain."
   ]
  },
  {
   "cell_type": "markdown",
   "metadata": {},
   "source": [
    "- [X] What characterizes chains: many establishments with a small number of seats or a few establishments with a lot of seats?"
   ]
  },
  {
   "cell_type": "code",
   "execution_count": 21,
   "metadata": {},
   "outputs": [
    {
     "data": {
      "image/png": "[encoded data removed]",
      "text/plain": [
       "<Figure size 1152x360 with 1 Axes>"
      ]
     },
     "metadata": {},
     "output_type": "display_data"
    }
   ],
   "source": [
    "sns.set(style='dark')\n",
    "sns.set_style(\"whitegrid\")\n",
    "plt.figure(figsize=(16,5))\n",
    "ax = sns.stripplot(x=\"object_type\", y=\"number\", data=df_data)\n",
    "plt.locs, labels = plt.yticks()\n",
    "plt.yticks(np.arange(0, 250, step=25))\n",
    "plt.setp(labels, rotation=0)\n",
    "plt.title('Chain characteristic')\n",
    "plt.ylabel('Number of seats')\n",
    "plt.xlabel('Type of object')\n",
    "plt.show()"
   ]
  },
  {
   "cell_type": "markdown",
   "metadata": {},
   "source": [
    "> * Establishments with a chain generally have 1 to 50 seats.\n",
    "> * The restaurants have a stable number of seats also in the range from 60 to 150.\n",
    "> * Bakery establishments have a small number of seats - up to 25."
   ]
  },
  {
   "cell_type": "markdown",
   "metadata": {},
   "source": [
    "<div class=\"alert alert-block alert-success\">\n",
    "    <h2>Reviewer's commentary <a class=\"tocSkip\"> </h2>\n",
    "    <br/>\n",
    "<b>Well done!👍:</b> \n",
    "        \n",
    "Ok, I can agree with your conclusions here, good job!"
   ]
  },
  {
   "cell_type": "markdown",
   "metadata": {},
   "source": [
    "- [X] Determine the average number of seats for each type of restaurant. On average, which type of restaurant has the greatest number of seats? Plot graphs."
   ]
  },
  {
   "cell_type": "code",
   "execution_count": 22,
   "metadata": {},
   "outputs": [
    {
     "data": {
      "text/html": [
       "<div>\n",
       "<style scoped>\n",
       "    .dataframe tbody tr th:only-of-type {\n",
       "        vertical-align: middle;\n",
       "    }\n",
       "\n",
       "    .dataframe tbody tr th {\n",
       "        vertical-align: top;\n",
       "    }\n",
       "\n",
       "    .dataframe thead th {\n",
       "        text-align: right;\n",
       "    }\n",
       "</style>\n",
       "<table border=\"1\" class=\"dataframe\">\n",
       "  <thead>\n",
       "    <tr style=\"text-align: right;\">\n",
       "      <th></th>\n",
       "      <th>object_type</th>\n",
       "      <th>number</th>\n",
       "    </tr>\n",
       "  </thead>\n",
       "  <tbody>\n",
       "    <tr>\n",
       "      <td>5</td>\n",
       "      <td>Restaurant</td>\n",
       "      <td>48.0</td>\n",
       "    </tr>\n",
       "    <tr>\n",
       "      <td>1</td>\n",
       "      <td>Bar</td>\n",
       "      <td>45.0</td>\n",
       "    </tr>\n",
       "    <tr>\n",
       "      <td>3</td>\n",
       "      <td>Fast Food</td>\n",
       "      <td>32.0</td>\n",
       "    </tr>\n",
       "    <tr>\n",
       "      <td>4</td>\n",
       "      <td>Pizza</td>\n",
       "      <td>28.0</td>\n",
       "    </tr>\n",
       "    <tr>\n",
       "      <td>2</td>\n",
       "      <td>Cafe</td>\n",
       "      <td>25.0</td>\n",
       "    </tr>\n",
       "    <tr>\n",
       "      <td>0</td>\n",
       "      <td>Bakery</td>\n",
       "      <td>22.0</td>\n",
       "    </tr>\n",
       "  </tbody>\n",
       "</table>\n",
       "</div>"
      ],
      "text/plain": [
       "  object_type  number\n",
       "5  Restaurant    48.0\n",
       "1         Bar    45.0\n",
       "3   Fast Food    32.0\n",
       "4       Pizza    28.0\n",
       "2        Cafe    25.0\n",
       "0      Bakery    22.0"
      ]
     },
     "execution_count": 22,
     "metadata": {},
     "output_type": "execute_result"
    }
   ],
   "source": [
    "averageNumberOfseats = df_data.groupby(['object_type'])['number'].mean().round().reset_index().sort_values(by='number',ascending=False)\n",
    "averageNumberOfseats.head(10)"
   ]
  },
  {
   "cell_type": "code",
   "execution_count": 23,
   "metadata": {},
   "outputs": [
    {
     "data": {
      "image/png": "[encoded data removed]",
      "text/plain": [
       "<Figure size 1152x360 with 1 Axes>"
      ]
     },
     "metadata": {},
     "output_type": "display_data"
    }
   ],
   "source": [
    "sns.set(style='dark')\n",
    "sns.set_style(\"whitegrid\")\n",
    "plt.figure(figsize=(16,5))\n",
    "ax = sns.stripplot(x='object_type', y='number', data=averageNumberOfseats)\n",
    "plt.locs, labels = plt.yticks()\n",
    "plt.yticks(np.arange(0, 50, step=2))\n",
    "plt.setp(labels, rotation=0)\n",
    "plt.title('Graph of the average number of seats for each type of establishments')\n",
    "plt.ylabel('Average number of seats')\n",
    "plt.xlabel('Type of object')\n",
    "plt.show()"
   ]
  },
  {
   "cell_type": "markdown",
   "metadata": {},
   "source": [
    "> * On average, Restaurants type of establishments has the greatest number of seats - 48. "
   ]
  },
  {
   "cell_type": "markdown",
   "metadata": {},
   "source": [
    "<div class=\"alert alert-block alert-success\">\n",
    "    <h2>Reviewer's commentary <a class=\"tocSkip\"> </h2>\n",
    "    <br/>\n",
    "<b>Well done!👍:</b> \n",
    "        \n",
    "Nothing to add, the logic of your decision is absolutely correct here!"
   ]
  },
  {
   "cell_type": "markdown",
   "metadata": {},
   "source": [
    "<div class=\"alert alert-block alert-warning\">\n",
    "   <h2>Reviewer's commentary <a class=\"tocSkip\"> </h2>\n",
    "    <br/>\n",
    "<b>Remarks and recommendations📌:</b>  \n",
    "       \n",
    "Here you can also use barplot."
   ]
  },
  {
   "cell_type": "markdown",
   "metadata": {},
   "source": [
    "- [X] Put the data on street names from the address column in a separate column."
   ]
  },
  {
   "cell_type": "code",
   "execution_count": 24,
   "metadata": {},
   "outputs": [],
   "source": [
    "def search_words(text):\n",
    "    result = re.findall(r'\\b[^\\d\\W]+\\b', text)\n",
    "    return \" \".join(result)\n",
    "\n",
    "df_data['street_name']=df_data['address'].apply(lambda x : search_words(x)).str.lower()"
   ]
  },
  {
   "cell_type": "code",
   "execution_count": 25,
   "metadata": {},
   "outputs": [
    {
     "data": {
      "text/html": [
       "<div>\n",
       "<style scoped>\n",
       "    .dataframe tbody tr th:only-of-type {\n",
       "        vertical-align: middle;\n",
       "    }\n",
       "\n",
       "    .dataframe tbody tr th {\n",
       "        vertical-align: top;\n",
       "    }\n",
       "\n",
       "    .dataframe thead th {\n",
       "        text-align: right;\n",
       "    }\n",
       "</style>\n",
       "<table border=\"1\" class=\"dataframe\">\n",
       "  <thead>\n",
       "    <tr style=\"text-align: right;\">\n",
       "      <th></th>\n",
       "      <th>id</th>\n",
       "      <th>object_name</th>\n",
       "      <th>address</th>\n",
       "      <th>chain</th>\n",
       "      <th>object_type</th>\n",
       "      <th>number</th>\n",
       "      <th>street_name</th>\n",
       "    </tr>\n",
       "  </thead>\n",
       "  <tbody>\n",
       "    <tr>\n",
       "      <td>0</td>\n",
       "      <td>11786</td>\n",
       "      <td>HABITAT COFFEE SHOP</td>\n",
       "      <td>3708 N EAGLE ROCK BLVD</td>\n",
       "      <td>False</td>\n",
       "      <td>Cafe</td>\n",
       "      <td>26</td>\n",
       "      <td>n eagle rock blvd</td>\n",
       "    </tr>\n",
       "    <tr>\n",
       "      <td>1</td>\n",
       "      <td>11787</td>\n",
       "      <td>REILLY'S</td>\n",
       "      <td>100 WORLD WAY # 120</td>\n",
       "      <td>False</td>\n",
       "      <td>Restaurant</td>\n",
       "      <td>9</td>\n",
       "      <td>world way</td>\n",
       "    </tr>\n",
       "    <tr>\n",
       "      <td>2</td>\n",
       "      <td>11788</td>\n",
       "      <td>STREET CHURROS</td>\n",
       "      <td>6801 HOLLYWOOD BLVD # 253</td>\n",
       "      <td>False</td>\n",
       "      <td>Fast Food</td>\n",
       "      <td>20</td>\n",
       "      <td>hollywood blvd</td>\n",
       "    </tr>\n",
       "    <tr>\n",
       "      <td>3</td>\n",
       "      <td>11789</td>\n",
       "      <td>TRINITI ECHO PARK</td>\n",
       "      <td>1814 W SUNSET BLVD</td>\n",
       "      <td>False</td>\n",
       "      <td>Restaurant</td>\n",
       "      <td>22</td>\n",
       "      <td>w sunset blvd</td>\n",
       "    </tr>\n",
       "    <tr>\n",
       "      <td>4</td>\n",
       "      <td>11790</td>\n",
       "      <td>POLLEN</td>\n",
       "      <td>2100 ECHO PARK AVE</td>\n",
       "      <td>False</td>\n",
       "      <td>Restaurant</td>\n",
       "      <td>20</td>\n",
       "      <td>echo park ave</td>\n",
       "    </tr>\n",
       "  </tbody>\n",
       "</table>\n",
       "</div>"
      ],
      "text/plain": [
       "      id          object_name                    address  chain object_type  \\\n",
       "0  11786  HABITAT COFFEE SHOP     3708 N EAGLE ROCK BLVD  False        Cafe   \n",
       "1  11787             REILLY'S        100 WORLD WAY # 120  False  Restaurant   \n",
       "2  11788       STREET CHURROS  6801 HOLLYWOOD BLVD # 253  False   Fast Food   \n",
       "3  11789    TRINITI ECHO PARK         1814 W SUNSET BLVD  False  Restaurant   \n",
       "4  11790               POLLEN         2100 ECHO PARK AVE  False  Restaurant   \n",
       "\n",
       "   number        street_name  \n",
       "0      26  n eagle rock blvd  \n",
       "1       9          world way  \n",
       "2      20     hollywood blvd  \n",
       "3      22      w sunset blvd  \n",
       "4      20      echo park ave  "
      ]
     },
     "execution_count": 25,
     "metadata": {},
     "output_type": "execute_result"
    }
   ],
   "source": [
    "df_data.head()"
   ]
  },
  {
   "cell_type": "markdown",
   "metadata": {},
   "source": [
    "<div class=\"alert alert-block alert-success\">\n",
    "    <h2>Reviewer's commentary <a class=\"tocSkip\"> </h2>\n",
    "    <br/>\n",
    "<b>Well done!👍:</b> \n",
    "        \n",
    "Ok, you correctly get the streets from address table, keep it up!"
   ]
  },
  {
   "cell_type": "markdown",
   "metadata": {},
   "source": [
    "<div class=\"alert alert-block alert-warning\">\n",
    "   <h2>Reviewer's commentary <a class=\"tocSkip\"> </h2>\n",
    "    <br/>\n",
    "<b>Remarks and recommendations📌:</b>  \n",
    "       \n",
    "But, ok, if you used regular expression why did you install and import usaddress?👀"
   ]
  },
  {
   "cell_type": "markdown",
   "metadata": {},
   "source": [
    "- [X] Plot a graph of the top ten streets by number of restaurants."
   ]
  },
  {
   "cell_type": "code",
   "execution_count": 26,
   "metadata": {},
   "outputs": [],
   "source": [
    "pivot_streets = df_data.pivot_table(index='street_name', values='id', aggfunc='count').sort_values(by='id',ascending=False).reset_index()\n",
    "pivot_streets_top_10 = df_data.pivot_table(index='street_name', values='id', aggfunc='count').sort_values(by='id',ascending=False).reset_index().head(10)"
   ]
  },
  {
   "cell_type": "code",
   "execution_count": 27,
   "metadata": {},
   "outputs": [
    {
     "data": {
      "image/png": "[encoded data removed]",
      "text/plain": [
       "<Figure size 1152x576 with 1 Axes>"
      ]
     },
     "metadata": {},
     "output_type": "display_data"
    }
   ],
   "source": [
    "sns.set(style='dark')\n",
    "sns.set_style(\"whitegrid\")\n",
    "plt.figure(figsize=(16,8))\n",
    "ax = sns.barplot(x='street_name', y='id', data=pivot_streets_top_10)\n",
    "plt.locs, labels = plt.yticks()\n",
    "plt.yticks(np.arange(160, 640, step=20))\n",
    "plt.setp(labels, rotation=0)\n",
    "plt.title('Top ten streets by number of restaurants')\n",
    "plt.ylabel('Number of restaurants')\n",
    "plt.xlabel('Name of Streets')\n",
    "plt.show()"
   ]
  },
  {
   "cell_type": "markdown",
   "metadata": {},
   "source": [
    "> * \"W St\" street has a maximum number of establishments - 620.\n",
    "> * \"S Vermont ave\" street has a minimum of 170 establishments."
   ]
  },
  {
   "cell_type": "markdown",
   "metadata": {},
   "source": [
    "<div class=\"alert alert-block alert-success\">\n",
    "    <h2>Reviewer's commentary <a class=\"tocSkip\"> </h2>\n",
    "    <br/>\n",
    "<b>Well done!👍:</b> \n",
    "        \n",
    "Plot looks very informative👌"
   ]
  },
  {
   "cell_type": "markdown",
   "metadata": {},
   "source": [
    "- [X] Find the number of streets that only have one restaurant."
   ]
  },
  {
   "cell_type": "code",
   "execution_count": 28,
   "metadata": {},
   "outputs": [
    {
     "data": {
      "text/html": [
       "<div>\n",
       "<style scoped>\n",
       "    .dataframe tbody tr th:only-of-type {\n",
       "        vertical-align: middle;\n",
       "    }\n",
       "\n",
       "    .dataframe tbody tr th {\n",
       "        vertical-align: top;\n",
       "    }\n",
       "\n",
       "    .dataframe thead th {\n",
       "        text-align: right;\n",
       "    }\n",
       "</style>\n",
       "<table border=\"1\" class=\"dataframe\">\n",
       "  <thead>\n",
       "    <tr style=\"text-align: right;\">\n",
       "      <th></th>\n",
       "      <th>street_name</th>\n",
       "      <th>amount_of_restaurants</th>\n",
       "    </tr>\n",
       "  </thead>\n",
       "  <tbody>\n",
       "    <tr>\n",
       "      <td>0</td>\n",
       "      <td>abbot kinney</td>\n",
       "      <td>1</td>\n",
       "    </tr>\n",
       "    <tr>\n",
       "      <td>1</td>\n",
       "      <td>abbot kinney blvd</td>\n",
       "      <td>3</td>\n",
       "    </tr>\n",
       "    <tr>\n",
       "      <td>2</td>\n",
       "      <td>academy dr</td>\n",
       "      <td>1</td>\n",
       "    </tr>\n",
       "    <tr>\n",
       "      <td>3</td>\n",
       "      <td>airport blvd</td>\n",
       "      <td>10</td>\n",
       "    </tr>\n",
       "    <tr>\n",
       "      <td>4</td>\n",
       "      <td>alameda st</td>\n",
       "      <td>1</td>\n",
       "    </tr>\n",
       "  </tbody>\n",
       "</table>\n",
       "</div>"
      ],
      "text/plain": [
       "         street_name  amount_of_restaurants\n",
       "0       abbot kinney                      1\n",
       "1  abbot kinney blvd                      3\n",
       "2         academy dr                      1\n",
       "3       airport blvd                     10\n",
       "4         alameda st                      1"
      ]
     },
     "execution_count": 28,
     "metadata": {},
     "output_type": "execute_result"
    }
   ],
   "source": [
    "streets_est = df_data.groupby('street_name').agg({'id':'count'}).reset_index()\n",
    "streets_est.columns = ['street_name', 'amount_of_restaurants']\n",
    "streets_est.head()"
   ]
  },
  {
   "cell_type": "code",
   "execution_count": 29,
   "metadata": {},
   "outputs": [],
   "source": [
    "streetsWithOneEst = streets_est.query('amount_of_restaurants == 1').count()"
   ]
  },
  {
   "cell_type": "code",
   "execution_count": 30,
   "metadata": {},
   "outputs": [
    {
     "name": "stdout",
     "output_type": "stream",
     "text": [
      "The number of streets that only have one restaurant: 2\n"
     ]
    }
   ],
   "source": [
    "print('The number of streets that only have one restaurant: {}'.format(len(streetsWithOneEst)))"
   ]
  },
  {
   "cell_type": "markdown",
   "metadata": {},
   "source": [
    "<div class=\"alert alert-block alert-danger\">\n",
    "    <h2>Reviewer's commentary <a class=\"tocSkip\"> </h2>\n",
    "    <br/>\n",
    "<b>Needs fixing!🤔:</b> \n",
    "        \n",
    "Kamil, be more attentive to the task formulation: you can have the situation when on one street you have several establishments, so here it seems to me that you calculated not the number of streets but number of establishments. Try to use this code (change it according to your data)\n",
    "        \n",
    "1) find streets that only have one establishment\n",
    "`streets_with_one_est = est_by_streets.query('id == 1').reset_index(drop=True)`\n",
    "        \n",
    "before this action you need to group by your data by street_name and apply count for id\n",
    "\n",
    "2) print results formatting with `len`\n",
    "`print('The number of streets that only have one establishment is: {}'.format(len(streets_with_one_est)))`\n",
    "        "
   ]
  },
  {
   "cell_type": "markdown",
   "metadata": {},
   "source": [
    "<div class=\"alert alert-block alert-success\">\n",
    "    <h2>Reviewer's commentary:second iteration of the review <a class=\"tocSkip\"> </h2>\n",
    "    <br/>\n",
    "<b>Well done!👍</b> \n"
   ]
  },
  {
   "cell_type": "markdown",
   "metadata": {},
   "source": [
    "- [X] For streets with a lot of restaurants, look at the distribution of the number of seats. What trends can you see?"
   ]
  },
  {
   "cell_type": "code",
   "execution_count": 31,
   "metadata": {},
   "outputs": [
    {
     "data": {
      "text/plain": [
       "array([12., 31.])"
      ]
     },
     "execution_count": 31,
     "metadata": {},
     "output_type": "execute_result"
    }
   ],
   "source": [
    "np.percentile(pivot_streets['id'], [90, 95])"
   ]
  },
  {
   "cell_type": "markdown",
   "metadata": {},
   "source": [
    "> * No more than 10% is no more than 12 establishments on the street, no more than 5% is no more than 31 establishments on the street.\n",
    "> * Thus, let's consider only those streets that have more than 30 establishments. "
   ]
  },
  {
   "cell_type": "code",
   "execution_count": 32,
   "metadata": {},
   "outputs": [
    {
     "data": {
      "text/plain": [
       "['w st',\n",
       " 'w sunset blvd',\n",
       " 'w pico blvd',\n",
       " 'e st',\n",
       " 'wilshire blvd',\n",
       " 'santa monica blvd',\n",
       " 'hollywood blvd',\n",
       " 's western ave',\n",
       " 's figueroa st',\n",
       " 's vermont ave',\n",
       " 'w olympic blvd',\n",
       " 'beverly blvd',\n",
       " 'melrose ave',\n",
       " 'world way',\n",
       " 'wilshire blvd ste',\n",
       " 's central ave',\n",
       " 'venice blvd',\n",
       " 'n figueroa st',\n",
       " 'westwood blvd',\n",
       " 'w st ste',\n",
       " 's broadway',\n",
       " 'n western ave',\n",
       " 'e cesar e chavez ave',\n",
       " 'whittier blvd',\n",
       " 'colorado blvd',\n",
       " 's la brea ave',\n",
       " 's san pedro st',\n",
       " 'e whittier blvd',\n",
       " 'n vermont ave',\n",
       " 'w slauson ave',\n",
       " 's main st',\n",
       " 'w washington blvd',\n",
       " 'w manchester ave',\n",
       " 'e olympic blvd',\n",
       " 'n broadway',\n",
       " 'w olympic blvd ste',\n",
       " 's grand ave',\n",
       " 'sawtelle blvd',\n",
       " 'york blvd',\n",
       " 's spring st',\n",
       " 's western ave ste',\n",
       " 'san vicente blvd',\n",
       " 'glendale blvd',\n",
       " 'n cahuenga blvd',\n",
       " 's sepulveda blvd',\n",
       " 'w adams blvd',\n",
       " 's hill st',\n",
       " 's alameda st',\n",
       " 'e florence ave',\n",
       " 'santa monica blvd ste',\n",
       " 'n larchmont blvd',\n",
       " 'w century blvd',\n",
       " 'crenshaw blvd',\n",
       " 's figueroa st ste',\n",
       " 'w jefferson blvd',\n",
       " 'n vine st',\n",
       " 's avalon blvd',\n",
       " 'n la cienega blvd',\n",
       " 'n highland ave',\n",
       " 's la cienega blvd',\n",
       " 'national blvd',\n",
       " 'w florence ave',\n",
       " 's flower st',\n",
       " 'eagle rock blvd',\n",
       " 's robertson blvd',\n",
       " 's crenshaw blvd',\n",
       " 's hope st',\n",
       " 'hollywood blvd ste',\n",
       " 's hoover st']"
      ]
     },
     "metadata": {},
     "output_type": "display_data"
    }
   ],
   "source": [
    "list_of_streets_30 = list(pivot_streets[pivot_streets['id'] > 30]['street_name'])\n",
    "list_of_streets_10 = list(pivot_streets[pivot_streets['id'] > 10]['street_name'])\n",
    "display(list_of_streets_30)"
   ]
  },
  {
   "cell_type": "markdown",
   "metadata": {},
   "source": [
    "<div class=\"alert alert-block alert-warning\">\n",
    "   <h2>Reviewer's commentary <a class=\"tocSkip\"> </h2>\n",
    "    <br/>\n",
    "<b>Remarks and recommendations📌:</b>  \n",
    "       \n",
    "Ok, 30 can be considered as threshold here. I would like to recommend you to look at 10 restaurant as threshold and compare the results."
   ]
  },
  {
   "cell_type": "code",
   "execution_count": 33,
   "metadata": {},
   "outputs": [
    {
     "data": {
      "text/html": [
       "<div>\n",
       "<style scoped>\n",
       "    .dataframe tbody tr th:only-of-type {\n",
       "        vertical-align: middle;\n",
       "    }\n",
       "\n",
       "    .dataframe tbody tr th {\n",
       "        vertical-align: top;\n",
       "    }\n",
       "\n",
       "    .dataframe thead th {\n",
       "        text-align: right;\n",
       "    }\n",
       "</style>\n",
       "<table border=\"1\" class=\"dataframe\">\n",
       "  <thead>\n",
       "    <tr style=\"text-align: right;\">\n",
       "      <th></th>\n",
       "      <th>id</th>\n",
       "      <th>object_name</th>\n",
       "      <th>address</th>\n",
       "      <th>chain</th>\n",
       "      <th>object_type</th>\n",
       "      <th>number</th>\n",
       "      <th>street_name</th>\n",
       "    </tr>\n",
       "  </thead>\n",
       "  <tbody>\n",
       "    <tr>\n",
       "      <td>1</td>\n",
       "      <td>11787</td>\n",
       "      <td>REILLY'S</td>\n",
       "      <td>100 WORLD WAY # 120</td>\n",
       "      <td>False</td>\n",
       "      <td>Restaurant</td>\n",
       "      <td>9</td>\n",
       "      <td>world way</td>\n",
       "    </tr>\n",
       "    <tr>\n",
       "      <td>2</td>\n",
       "      <td>11788</td>\n",
       "      <td>STREET CHURROS</td>\n",
       "      <td>6801 HOLLYWOOD BLVD # 253</td>\n",
       "      <td>False</td>\n",
       "      <td>Fast Food</td>\n",
       "      <td>20</td>\n",
       "      <td>hollywood blvd</td>\n",
       "    </tr>\n",
       "    <tr>\n",
       "      <td>3</td>\n",
       "      <td>11789</td>\n",
       "      <td>TRINITI ECHO PARK</td>\n",
       "      <td>1814 W SUNSET BLVD</td>\n",
       "      <td>False</td>\n",
       "      <td>Restaurant</td>\n",
       "      <td>22</td>\n",
       "      <td>w sunset blvd</td>\n",
       "    </tr>\n",
       "    <tr>\n",
       "      <td>5</td>\n",
       "      <td>11791</td>\n",
       "      <td>THE SPOT GRILL</td>\n",
       "      <td>10004 NATIONAL BLVD</td>\n",
       "      <td>False</td>\n",
       "      <td>Restaurant</td>\n",
       "      <td>14</td>\n",
       "      <td>national blvd</td>\n",
       "    </tr>\n",
       "    <tr>\n",
       "      <td>6</td>\n",
       "      <td>11792</td>\n",
       "      <td>CPK</td>\n",
       "      <td>100 WORLD WAY # 126</td>\n",
       "      <td>False</td>\n",
       "      <td>Restaurant</td>\n",
       "      <td>100</td>\n",
       "      <td>world way</td>\n",
       "    </tr>\n",
       "  </tbody>\n",
       "</table>\n",
       "</div>"
      ],
      "text/plain": [
       "      id        object_name                    address  chain object_type  \\\n",
       "1  11787           REILLY'S        100 WORLD WAY # 120  False  Restaurant   \n",
       "2  11788     STREET CHURROS  6801 HOLLYWOOD BLVD # 253  False   Fast Food   \n",
       "3  11789  TRINITI ECHO PARK         1814 W SUNSET BLVD  False  Restaurant   \n",
       "5  11791     THE SPOT GRILL        10004 NATIONAL BLVD  False  Restaurant   \n",
       "6  11792                CPK        100 WORLD WAY # 126  False  Restaurant   \n",
       "\n",
       "   number     street_name  \n",
       "1       9       world way  \n",
       "2      20  hollywood blvd  \n",
       "3      22   w sunset blvd  \n",
       "5      14   national blvd  \n",
       "6     100       world way  "
      ]
     },
     "execution_count": 33,
     "metadata": {},
     "output_type": "execute_result"
    }
   ],
   "source": [
    "# Get the list of streets that have more restaurants than the number you set as a threshold:\n",
    "restaurants_30 = df_data[df_data['street_name'].isin(list_of_streets_30)]\n",
    "restaurants_10 = df_data[df_data['street_name'].isin(list_of_streets_10)]\n",
    "restaurants_30.head()"
   ]
  },
  {
   "cell_type": "code",
   "execution_count": 34,
   "metadata": {},
   "outputs": [
    {
     "data": {
      "text/plain": [
       "count    6134.000000\n",
       "mean       44.218944\n",
       "std        47.362813\n",
       "min         1.000000\n",
       "25%        14.000000\n",
       "50%        27.000000\n",
       "75%        46.000000\n",
       "max       229.000000\n",
       "Name: number, dtype: float64"
      ]
     },
     "execution_count": 34,
     "metadata": {},
     "output_type": "execute_result"
    }
   ],
   "source": [
    "restaurants_30['number'].describe()"
   ]
  },
  {
   "cell_type": "code",
   "execution_count": 35,
   "metadata": {},
   "outputs": [
    {
     "data": {
      "text/plain": [
       "count    7421.000000\n",
       "mean       44.075866\n",
       "std        47.305653\n",
       "min         1.000000\n",
       "25%        14.000000\n",
       "50%        27.000000\n",
       "75%        46.000000\n",
       "max       229.000000\n",
       "Name: number, dtype: float64"
      ]
     },
     "execution_count": 35,
     "metadata": {},
     "output_type": "execute_result"
    }
   ],
   "source": [
    "restaurants_10['number'].describe()"
   ]
  },
  {
   "cell_type": "code",
   "execution_count": 36,
   "metadata": {},
   "outputs": [
    {
     "data": {
      "image/png": "[encoded data removed]",
      "text/plain": [
       "<Figure size 1152x360 with 1 Axes>"
      ]
     },
     "metadata": {},
     "output_type": "display_data"
    }
   ],
   "source": [
    "sns.set(style='dark')\n",
    "sns.set_style(\"whitegrid\")\n",
    "plt.figure(figsize=(16,5))\n",
    "ax = sns.distplot(restaurants_30['number'], color='green', bins=25)\n",
    "plt.locs, labels = plt.xticks()\n",
    "plt.xticks(np.arange(0, 250, step=10))\n",
    "plt.setp(labels, rotation=0)\n",
    "plt.title('Distribution of the number of seats, (restaurants > 30 per street).')\n",
    "plt.ylabel('Score')\n",
    "plt.xlabel('Number of seats')\n",
    "plt.show()"
   ]
  },
  {
   "cell_type": "code",
   "execution_count": 37,
   "metadata": {},
   "outputs": [
    {
     "data": {
      "image/png": "[encoded data removed]",
      "text/plain": [
       "<Figure size 1152x360 with 1 Axes>"
      ]
     },
     "metadata": {},
     "output_type": "display_data"
    }
   ],
   "source": [
    "sns.set(style='dark')\n",
    "sns.set_style(\"whitegrid\")\n",
    "plt.figure(figsize=(16,5))\n",
    "ax = sns.distplot(restaurants_10['number'], color='green', bins=25)\n",
    "plt.locs, labels = plt.xticks()\n",
    "plt.xticks(np.arange(0, 250, step=10))\n",
    "plt.setp(labels, rotation=0)\n",
    "plt.title('Distribution of the number of seats, (restaurants > 10 per street).')\n",
    "plt.ylabel('Score')\n",
    "plt.xlabel('Number of seats')\n",
    "plt.show()"
   ]
  },
  {
   "cell_type": "markdown",
   "metadata": {},
   "source": [
    "> * Looking at the graph, we can say that the most popular are restaurants with a number of seats from 10 to 20."
   ]
  },
  {
   "cell_type": "markdown",
   "metadata": {},
   "source": [
    "<div class=\"alert alert-block alert-success\">\n",
    "    <h2>Reviewer's commentary:second iteration of the review <a class=\"tocSkip\"> </h2>\n",
    "    <br/>\n",
    "<b>Well done!👍:</b> \n",
    "        \n",
    "Ok, it is great that you provided the comparative analysis with 30 and 10 restaurants as threshold. Now we can verify our results and confirm the pattern we observe in case of 30 restaurants as threshold. Good job!"
   ]
  },
  {
   "attachments": {
    "image-2.png": {
     "image/png": "[encoded data removed]"
    },
    "image.png": {
     "image/png": "[encoded data removed]"
    }
   },
   "cell_type": "markdown",
   "metadata": {},
   "source": [
    "<div class=\"alert alert-block alert-warning\">\n",
    "   <h2>Reviewer's commentary <a class=\"tocSkip\"> </h2>\n",
    "    <br/>\n",
    "<b>Remarks and recommendations📌:</b>  \n",
    "       \n",
    "Kamil, it is better to check not only number of seats per each object type in popular streets but also average number of seats per object type in popular streets,\n",
    "        \n",
    "see the example of the table for such plot:\n",
    "       \n",
    "![image.png](attachment:image.png)\n",
    "       \n",
    "Also, if you try to visualize the `distribution of number of restaurants per street` as you mentioned in the task you can also to build such boxplot for each street, something like this:\n",
    "       \n",
    "![image-2.png](attachment:image-2.png)"
   ]
  },
  {
   "cell_type": "markdown",
   "metadata": {},
   "source": [
    "### Step 3. Preparing a presentation <a name=\"Presentation\"></a>"
   ]
  },
  {
   "cell_type": "markdown",
   "metadata": {},
   "source": [
    "Presentation: https://drive.google.com/file/d/1i6hn38q9hQwImb8Cr4wlH6WNKmXkegQy/view?usp=sharing"
   ]
  },
  {
   "cell_type": "markdown",
   "metadata": {},
   "source": [
    "<div class=\"alert alert-block alert-success\">\n",
    "    <h2>Reviewer's commentary:second iteration of the review <a class=\"tocSkip\"> </h2>\n",
    "    <br/>\n",
    "<b>Well done!👍:</b> \n",
    "    \n",
    "As for presentation this time: I can see your improvements, agree with new version, looks great!"
   ]
  },
  {
   "cell_type": "markdown",
   "metadata": {},
   "source": [
    "### Conclusion <a name=\"Conclusion\"></a>"
   ]
  },
  {
   "cell_type": "markdown",
   "metadata": {},
   "source": [
    "> * The most popular type of establishment is the restaurant type. This type of establishment has the maximum number of chains in its composition, as well as the maximum number of seats. Compared to other types of establishments:\n",
    "> * According to the plotted graphs, it can be seen that the largest part is occupied by restaurants (75.2%) among the types of establishments.\n",
    "> * In second place are establishments such as Fast Food (11.0%).\n",
    "> * And the third most popular is the cafe (4.5%)\n",
    "> * If you need to open a chain, then you can pay attention to the opening of establishments, such as bakeries. They will definitely be in the format of the chains.\n",
    "The number of places in the institution. The most optimal, for the first time, at least, can be considered the opening of an institution with a number of seats from 1 to 10, maximum 20.\n",
    "> * According to the top 10 streets with the largest number of restaurants (30 or more) in the city of Los Angeles and open sources of information, we can conclude that the street in the street is the main street of Los Angeles and therefore the abundance of institutions is not surprising. This raises a question related to costs, the average check and income that an institution can bring, if you open it on one of the streets included in the top 10 by the number of establishments.\n",
    "> * These conclusions were drawn based on the current dataset. In this set, there is no indication of the profit received, depending on the type of institution. Therefore, it is difficult to say how much the opening of this type of establishment will pay off.\n",
    "> * Based on the analysis of the existing dataset, I can make a proposal to open a restaurant, without a chain. "
   ]
  },
  {
   "cell_type": "markdown",
   "metadata": {},
   "source": [
    "* What is personality? If you open a cafe where robots will serve you, then this can be called an individual. For an institution and place like LA, the format of a restaurant that has no chain is definitely suitable. If you still limit the number of seating places from 10 to 20 and if you can arouse the interest of guests, then people will definitely come to you. The location matters, of course. It will also be necessary to analyze the type of client for whom this institution will be designed. But the main uniqueness of this restaurants will be the uniqueness of customer service - robots."
   ]
  },
  {
   "cell_type": "markdown",
   "metadata": {},
   "source": [
    "* Later, when customers get used to the unusual service, then you can open an restaurant with a chain. Cafe format. With the number of seats from 20 to 30."
   ]
  },
  {
   "cell_type": "markdown",
   "metadata": {},
   "source": [
    "<div class=\"alert alert-block alert-danger\">\n",
    "    <h2>Reviewer's commentary <a class=\"tocSkip\"> </h2>\n",
    "    <br/>\n",
    "<b>Needs fixing!🤔:</b>\n",
    "        \n",
    "Kamil, in the final conclusion based on your analysis you need to decide what type of establishment it is better to open: so, please, specify in your final conclusion, what you will choose: chain or non-chain establishment?"
   ]
  },
  {
   "cell_type": "markdown",
   "metadata": {},
   "source": [
    "<div class=\"alert alert-block alert-success\">\n",
    "    <h2>Reviewer's commentary:second iteration of the review <a class=\"tocSkip\"> </h2>\n",
    "    <br/>\n",
    "<b>Well done!👍:</b> \n",
    "        \n",
    "Ok, this time the final conclusion is more precise."
   ]
  },
  {
   "cell_type": "markdown",
   "metadata": {},
   "source": [
    "<div style=\"border:solid Chocolate 2px; padding: 40px\">\n",
    "\n",
    "**The overall review conclusion**\n",
    "\n",
    "Kamil, thank you for submitting your project! I can see that you've worked really hard on it! I'm really impressed this the amount of work you have done. But there are several things in your project which I suppose it is important to fix in order to make your project really ideal! My comments will navigate you!\n",
    "\n",
    "\n",
    "**Good things and practices in your project I want to highlight🙂**:\n",
    "\n",
    "* You use different methods for working with your data. It is really great that you can apply these methods on practice, keep it up!\n",
    "* You worked with the visualization, it is really good that you use plots in your work and formatted them correctly!\n",
    "* You tried to formulate conclusions after each step of the analysis.\n",
    "    \n",
    "**What is worth working on👀**:\n",
    "\n",
    "\n",
    "* It is worth checking the data for the partial dublicated values\n",
    "* It is better to try to explain some results you get in more detailed manner\n",
    "* Other recommendations you will find in my comments.\n",
    "    \n",
    "**What about presentation🤩**:\n",
    "\n",
    "* As a whole the presentation looks great, but I have some recommendations for you:\n",
    "    \n",
    "    \n",
    "   1) it is important to add your name and contact information because you are the author of this presentation, and your investors want to know your name:)\n",
    "    \n",
    "   2) you can add pages numbers\n",
    "    \n",
    "   3) please, add the final cobclusions and recommendations at slides, it also refers to the intro - please, add some sentences about what your analysis is.\n",
    "\n",
    "\n",
    "**Good luck! I will wait for your work for a second iteration of the review!😉**\n",
    "![gif](https://media.giphy.com/media/VTtANKl0beDFQRLDTh/giphy.gif)  "
   ]
  },
  {
   "cell_type": "markdown",
   "metadata": {},
   "source": [
    "<div style=\"border:solid Chocolate 2px; padding: 40px\">\n",
    "\n",
    "**The overall review conclusion: second iteration of the review**\n",
    "\n",
    "Kamil , thank you for submitting your project with corrections!\n",
    "    \n",
    "You did a great job to improve the project, I can see your progress and agree with all your corrections, so I hasten to say that your project has been accepted and you can proceed to the next sprint!\n",
    "    \n",
    "**I wish you exciting and cool projects in the next sprints😉**\n",
    "\n",
    "    \n",
    "Some additional materials for you, I hope it will be useful🙂\n",
    "    \n",
    "<ul>\n",
    "        <li>Barplot vs pie chart overview: <a>https://chartio.com/learn/charts/how-to-choose-pie-chart-vs-bar-chart/</a></li>\n",
    "        <li>Pandas profilier: <a>https://github.com/pandas-profiling/pandas-profiling</a></li>\n",
    "        <li>Top 50 matplotlib visualizations: <a>https://www.machinelearningplus.com/plots/top-50-matplotlib-visualizations-the-master-plots-python/</a></li>\n",
    "    </ul>\n",
    "\n",
    "![gif](https://media.giphy.com/media/l3UcjBJUov1gCRGbS/giphy.gif) "
   ]
  },
  {
   "cell_type": "code",
   "execution_count": null,
   "metadata": {},
   "outputs": [],
   "source": []
  }
 ],
 "metadata": {
  "ExecuteTimeLog": [
   {
    "duration": 94,
    "start_time": "2021-09-14T21:51:07.534Z"
   },
   {
    "duration": 1386,
    "start_time": "2021-09-14T21:53:19.459Z"
   },
   {
    "duration": 5,
    "start_time": "2021-09-14T21:53:29.719Z"
   },
   {
    "duration": 81,
    "start_time": "2021-09-14T21:54:28.622Z"
   },
   {
    "duration": 17,
    "start_time": "2021-09-14T21:54:32.795Z"
   },
   {
    "duration": 7,
    "start_time": "2021-09-14T21:55:02.581Z"
   },
   {
    "duration": 5,
    "start_time": "2021-09-14T21:55:10.603Z"
   },
   {
    "duration": 6,
    "start_time": "2021-09-14T21:55:18.777Z"
   },
   {
    "duration": 102,
    "start_time": "2021-09-14T21:55:30.721Z"
   },
   {
    "duration": 9,
    "start_time": "2021-09-14T21:57:10.277Z"
   },
   {
    "duration": 15,
    "start_time": "2021-09-14T21:57:29.571Z"
   },
   {
    "duration": 8,
    "start_time": "2021-09-14T21:57:41.846Z"
   },
   {
    "duration": 8,
    "start_time": "2021-09-14T21:58:12.640Z"
   },
   {
    "duration": 95,
    "start_time": "2021-09-14T21:58:24.935Z"
   },
   {
    "duration": 14,
    "start_time": "2021-09-14T22:02:16.104Z"
   },
   {
    "duration": 381,
    "start_time": "2021-09-14T22:03:18.880Z"
   },
   {
    "duration": 1474,
    "start_time": "2021-09-20T09:33:41.927Z"
   },
   {
    "duration": 1006,
    "start_time": "2021-09-20T09:33:42.398Z"
   },
   {
    "duration": 997,
    "start_time": "2021-09-20T09:33:42.408Z"
   },
   {
    "duration": 993,
    "start_time": "2021-09-20T09:33:42.412Z"
   },
   {
    "duration": 987,
    "start_time": "2021-09-20T09:33:42.419Z"
   },
   {
    "duration": 983,
    "start_time": "2021-09-20T09:33:42.424Z"
   },
   {
    "duration": 981,
    "start_time": "2021-09-20T09:33:42.427Z"
   },
   {
    "duration": 978,
    "start_time": "2021-09-20T09:33:42.431Z"
   },
   {
    "duration": 975,
    "start_time": "2021-09-20T09:33:42.435Z"
   },
   {
    "duration": 972,
    "start_time": "2021-09-20T09:33:42.439Z"
   },
   {
    "duration": 968,
    "start_time": "2021-09-20T09:33:42.443Z"
   },
   {
    "duration": 965,
    "start_time": "2021-09-20T09:33:42.447Z"
   },
   {
    "duration": 962,
    "start_time": "2021-09-20T09:33:42.451Z"
   },
   {
    "duration": 960,
    "start_time": "2021-09-20T09:33:42.454Z"
   },
   {
    "duration": 952,
    "start_time": "2021-09-20T09:33:42.463Z"
   },
   {
    "duration": 948,
    "start_time": "2021-09-20T09:33:42.467Z"
   },
   {
    "duration": 946,
    "start_time": "2021-09-20T09:33:42.470Z"
   },
   {
    "duration": 945,
    "start_time": "2021-09-20T09:33:42.472Z"
   },
   {
    "duration": 943,
    "start_time": "2021-09-20T09:33:42.475Z"
   },
   {
    "duration": 941,
    "start_time": "2021-09-20T09:33:42.478Z"
   },
   {
    "duration": 939,
    "start_time": "2021-09-20T09:33:42.480Z"
   },
   {
    "duration": 936,
    "start_time": "2021-09-20T09:33:42.484Z"
   },
   {
    "duration": 933,
    "start_time": "2021-09-20T09:33:42.488Z"
   },
   {
    "duration": 930,
    "start_time": "2021-09-20T09:33:42.491Z"
   },
   {
    "duration": 929,
    "start_time": "2021-09-20T09:33:42.493Z"
   },
   {
    "duration": 927,
    "start_time": "2021-09-20T09:33:42.496Z"
   },
   {
    "duration": 925,
    "start_time": "2021-09-20T09:33:42.499Z"
   },
   {
    "duration": 923,
    "start_time": "2021-09-20T09:33:42.502Z"
   },
   {
    "duration": 921,
    "start_time": "2021-09-20T09:33:42.505Z"
   },
   {
    "duration": 920,
    "start_time": "2021-09-20T09:33:42.508Z"
   },
   {
    "duration": 918,
    "start_time": "2021-09-20T09:33:42.511Z"
   },
   {
    "duration": 915,
    "start_time": "2021-09-20T09:33:42.515Z"
   },
   {
    "duration": 913,
    "start_time": "2021-09-20T09:33:42.518Z"
   },
   {
    "duration": 10345,
    "start_time": "2021-09-20T09:35:51.088Z"
   },
   {
    "duration": 109914,
    "start_time": "2021-09-20T09:36:17.923Z"
   },
   {
    "duration": 4,
    "start_time": "2021-09-20T09:38:07.839Z"
   },
   {
    "duration": 178,
    "start_time": "2021-09-20T09:38:07.845Z"
   },
   {
    "duration": 12,
    "start_time": "2021-09-20T09:38:08.025Z"
   },
   {
    "duration": 10,
    "start_time": "2021-09-20T09:38:08.038Z"
   },
   {
    "duration": 13,
    "start_time": "2021-09-20T09:38:08.050Z"
   },
   {
    "duration": 19,
    "start_time": "2021-09-20T09:38:08.065Z"
   },
   {
    "duration": 85,
    "start_time": "2021-09-20T09:38:08.087Z"
   },
   {
    "duration": 13,
    "start_time": "2021-09-20T09:38:08.174Z"
   },
   {
    "duration": 13,
    "start_time": "2021-09-20T09:38:08.189Z"
   },
   {
    "duration": 13,
    "start_time": "2021-09-20T09:38:08.204Z"
   },
   {
    "duration": 9,
    "start_time": "2021-09-20T09:38:08.219Z"
   },
   {
    "duration": 96,
    "start_time": "2021-09-20T09:38:08.229Z"
   },
   {
    "duration": 29,
    "start_time": "2021-09-20T09:38:08.327Z"
   },
   {
    "duration": 255,
    "start_time": "2021-09-20T09:38:08.358Z"
   },
   {
    "duration": 255,
    "start_time": "2021-09-20T09:38:08.615Z"
   },
   {
    "duration": 237,
    "start_time": "2021-09-20T09:38:08.872Z"
   },
   {
    "duration": 382,
    "start_time": "2021-09-20T09:38:09.111Z"
   },
   {
    "duration": 693,
    "start_time": "2021-09-20T09:38:09.495Z"
   },
   {
    "duration": 13,
    "start_time": "2021-09-20T09:38:10.190Z"
   },
   {
    "duration": 472,
    "start_time": "2021-09-20T09:38:10.205Z"
   },
   {
    "duration": 57998,
    "start_time": "2021-09-20T09:38:10.680Z"
   },
   {
    "duration": 33,
    "start_time": "2021-09-20T09:39:08.682Z"
   },
   {
    "duration": 11,
    "start_time": "2021-09-20T09:39:08.717Z"
   },
   {
    "duration": 26,
    "start_time": "2021-09-20T09:39:08.730Z"
   },
   {
    "duration": 390,
    "start_time": "2021-09-20T09:39:08.759Z"
   },
   {
    "duration": 16,
    "start_time": "2021-09-20T09:39:09.152Z"
   },
   {
    "duration": 7,
    "start_time": "2021-09-20T09:39:09.170Z"
   },
   {
    "duration": 14,
    "start_time": "2021-09-20T09:39:09.178Z"
   },
   {
    "duration": 21,
    "start_time": "2021-09-20T09:39:09.194Z"
   },
   {
    "duration": 28,
    "start_time": "2021-09-20T09:39:09.218Z"
   },
   {
    "duration": 16,
    "start_time": "2021-09-20T09:39:09.248Z"
   },
   {
    "duration": 433,
    "start_time": "2021-09-20T09:39:09.266Z"
   },
   {
    "duration": 7,
    "start_time": "2021-09-20T10:02:23.309Z"
   },
   {
    "duration": 983,
    "start_time": "2021-09-20T10:02:44.956Z"
   },
   {
    "duration": 7290,
    "start_time": "2021-09-20T10:58:32.441Z"
   },
   {
    "duration": 4,
    "start_time": "2021-09-20T10:58:39.733Z"
   },
   {
    "duration": 187,
    "start_time": "2021-09-20T10:58:39.750Z"
   },
   {
    "duration": 16,
    "start_time": "2021-09-20T10:58:39.940Z"
   },
   {
    "duration": 7,
    "start_time": "2021-09-20T10:58:39.962Z"
   },
   {
    "duration": 7,
    "start_time": "2021-09-20T10:58:39.971Z"
   },
   {
    "duration": 12,
    "start_time": "2021-09-20T10:58:39.980Z"
   },
   {
    "duration": 122,
    "start_time": "2021-09-20T10:58:39.995Z"
   },
   {
    "duration": 10,
    "start_time": "2021-09-20T10:58:40.120Z"
   },
   {
    "duration": 11,
    "start_time": "2021-09-20T10:58:40.131Z"
   },
   {
    "duration": 19,
    "start_time": "2021-09-20T10:58:40.143Z"
   },
   {
    "duration": 7,
    "start_time": "2021-09-20T10:58:40.166Z"
   },
   {
    "duration": 101,
    "start_time": "2021-09-20T10:58:40.175Z"
   },
   {
    "duration": 9,
    "start_time": "2021-09-20T10:58:40.278Z"
   },
   {
    "duration": 276,
    "start_time": "2021-09-20T10:58:40.289Z"
   },
   {
    "duration": 309,
    "start_time": "2021-09-20T10:58:40.567Z"
   },
   {
    "duration": 243,
    "start_time": "2021-09-20T10:58:40.878Z"
   },
   {
    "duration": 317,
    "start_time": "2021-09-20T10:58:41.123Z"
   },
   {
    "duration": 8483,
    "start_time": "2021-09-20T11:01:16.239Z"
   },
   {
    "duration": 271,
    "start_time": "2021-09-20T11:01:26.162Z"
   },
   {
    "duration": 282,
    "start_time": "2021-09-20T11:03:11.037Z"
   },
   {
    "duration": 251,
    "start_time": "2021-09-20T11:04:02.109Z"
   },
   {
    "duration": 13,
    "start_time": "2021-09-20T11:04:29.596Z"
   },
   {
    "duration": 14,
    "start_time": "2021-09-20T11:05:09.244Z"
   },
   {
    "duration": 323,
    "start_time": "2021-09-20T11:06:26.089Z"
   },
   {
    "duration": 820,
    "start_time": "2021-09-20T11:06:50.664Z"
   },
   {
    "duration": 87,
    "start_time": "2021-09-20T11:07:05.285Z"
   },
   {
    "duration": 299,
    "start_time": "2021-09-20T11:07:09.069Z"
   },
   {
    "duration": 264,
    "start_time": "2021-09-20T11:13:45.126Z"
   },
   {
    "duration": 2564,
    "start_time": "2021-09-20T11:13:52.694Z"
   },
   {
    "duration": 5,
    "start_time": "2021-09-20T11:13:55.260Z"
   },
   {
    "duration": 89,
    "start_time": "2021-09-20T11:13:55.267Z"
   },
   {
    "duration": 11,
    "start_time": "2021-09-20T11:13:55.359Z"
   },
   {
    "duration": 11,
    "start_time": "2021-09-20T11:13:55.373Z"
   },
   {
    "duration": 5,
    "start_time": "2021-09-20T11:13:55.386Z"
   },
   {
    "duration": 6,
    "start_time": "2021-09-20T11:13:55.392Z"
   },
   {
    "duration": 99,
    "start_time": "2021-09-20T11:13:55.401Z"
   },
   {
    "duration": 9,
    "start_time": "2021-09-20T11:13:55.502Z"
   },
   {
    "duration": 9,
    "start_time": "2021-09-20T11:13:55.512Z"
   },
   {
    "duration": 36,
    "start_time": "2021-09-20T11:13:55.523Z"
   },
   {
    "duration": 9,
    "start_time": "2021-09-20T11:13:55.561Z"
   },
   {
    "duration": 90,
    "start_time": "2021-09-20T11:13:55.572Z"
   },
   {
    "duration": 14,
    "start_time": "2021-09-20T11:13:55.669Z"
   },
   {
    "duration": 272,
    "start_time": "2021-09-20T11:13:55.685Z"
   },
   {
    "duration": 360,
    "start_time": "2021-09-20T11:13:55.959Z"
   },
   {
    "duration": 331,
    "start_time": "2021-09-20T11:13:56.321Z"
   },
   {
    "duration": 386,
    "start_time": "2021-09-20T11:13:56.655Z"
   },
   {
    "duration": 336,
    "start_time": "2021-09-20T11:13:57.043Z"
   },
   {
    "duration": 97,
    "start_time": "2021-09-20T11:13:57.285Z"
   },
   {
    "duration": 100,
    "start_time": "2021-09-20T11:13:57.288Z"
   },
   {
    "duration": 100,
    "start_time": "2021-09-20T11:13:57.290Z"
   },
   {
    "duration": 99,
    "start_time": "2021-09-20T11:13:57.292Z"
   },
   {
    "duration": 99,
    "start_time": "2021-09-20T11:13:57.294Z"
   },
   {
    "duration": 98,
    "start_time": "2021-09-20T11:13:57.296Z"
   },
   {
    "duration": 98,
    "start_time": "2021-09-20T11:13:57.298Z"
   },
   {
    "duration": 56,
    "start_time": "2021-09-20T11:13:57.341Z"
   },
   {
    "duration": 2,
    "start_time": "2021-09-20T11:15:22.385Z"
   },
   {
    "duration": 744,
    "start_time": "2021-09-20T11:15:24.396Z"
   },
   {
    "duration": 13,
    "start_time": "2021-09-20T11:15:27.272Z"
   },
   {
    "duration": 426,
    "start_time": "2021-09-20T11:15:28.004Z"
   },
   {
    "duration": 2558,
    "start_time": "2021-09-20T11:15:30.299Z"
   },
   {
    "duration": 43,
    "start_time": "2021-09-20T11:15:32.860Z"
   },
   {
    "duration": 31,
    "start_time": "2021-09-20T11:15:41.207Z"
   },
   {
    "duration": 18,
    "start_time": "2021-09-20T11:15:41.740Z"
   },
   {
    "duration": 23,
    "start_time": "2021-09-20T11:15:47.109Z"
   },
   {
    "duration": 392,
    "start_time": "2021-09-20T11:15:47.953Z"
   },
   {
    "duration": 12,
    "start_time": "2021-09-20T11:15:53.576Z"
   },
   {
    "duration": 12,
    "start_time": "2021-09-20T11:16:32.135Z"
   },
   {
    "duration": 1026,
    "start_time": "2021-09-20T11:16:46.579Z"
   },
   {
    "duration": 12,
    "start_time": "2021-09-20T11:16:53.685Z"
   },
   {
    "duration": 11,
    "start_time": "2021-09-20T11:17:32.623Z"
   },
   {
    "duration": 11,
    "start_time": "2021-09-20T11:17:50.818Z"
   },
   {
    "duration": 9,
    "start_time": "2021-09-20T11:19:26.182Z"
   },
   {
    "duration": 6,
    "start_time": "2021-09-20T11:19:53.707Z"
   },
   {
    "duration": 4,
    "start_time": "2021-09-20T11:20:39.084Z"
   },
   {
    "duration": 7,
    "start_time": "2021-09-20T11:38:27.910Z"
   },
   {
    "duration": 10,
    "start_time": "2021-09-20T11:38:49.649Z"
   },
   {
    "duration": 12,
    "start_time": "2021-09-20T11:39:44.403Z"
   },
   {
    "duration": 8,
    "start_time": "2021-09-20T11:39:49.777Z"
   },
   {
    "duration": 588,
    "start_time": "2021-09-20T11:39:55.270Z"
   },
   {
    "duration": 305,
    "start_time": "2021-09-20T11:40:04.725Z"
   },
   {
    "duration": 14,
    "start_time": "2021-09-20T11:40:19.887Z"
   },
   {
    "duration": 404,
    "start_time": "2021-09-20T11:40:26.864Z"
   },
   {
    "duration": 17,
    "start_time": "2021-09-20T17:31:40.537Z"
   },
   {
    "duration": 255,
    "start_time": "2021-09-20T17:44:24.118Z"
   },
   {
    "duration": 252,
    "start_time": "2021-09-20T17:44:38.858Z"
   },
   {
    "duration": 299,
    "start_time": "2021-09-20T18:45:05.116Z"
   },
   {
    "duration": 9,
    "start_time": "2021-09-20T18:45:37.651Z"
   },
   {
    "duration": 9,
    "start_time": "2021-09-20T18:46:09.363Z"
   },
   {
    "duration": 9,
    "start_time": "2021-09-20T18:46:25.607Z"
   },
   {
    "duration": 6,
    "start_time": "2021-09-20T18:47:12.562Z"
   },
   {
    "duration": 10,
    "start_time": "2021-09-20T18:47:24.394Z"
   },
   {
    "duration": 239,
    "start_time": "2021-09-20T18:48:06.032Z"
   },
   {
    "duration": 239,
    "start_time": "2021-09-20T18:48:19.253Z"
   },
   {
    "duration": 233,
    "start_time": "2021-09-20T18:48:26.490Z"
   },
   {
    "duration": 300,
    "start_time": "2021-09-20T18:48:36.863Z"
   },
   {
    "duration": 7,
    "start_time": "2021-09-20T18:48:53.926Z"
   },
   {
    "duration": 359,
    "start_time": "2021-09-20T18:49:40.184Z"
   },
   {
    "duration": 374,
    "start_time": "2021-09-20T18:50:26.671Z"
   },
   {
    "duration": 678,
    "start_time": "2021-09-20T18:51:36.288Z"
   },
   {
    "duration": 429,
    "start_time": "2021-09-20T18:51:41.586Z"
   },
   {
    "duration": 490,
    "start_time": "2021-09-20T18:51:52.294Z"
   },
   {
    "duration": 503,
    "start_time": "2021-09-20T18:52:02.294Z"
   },
   {
    "duration": 14,
    "start_time": "2021-09-20T18:54:29.167Z"
   },
   {
    "duration": 14,
    "start_time": "2021-09-20T18:54:44.073Z"
   },
   {
    "duration": 645,
    "start_time": "2021-09-20T18:55:33.464Z"
   },
   {
    "duration": 829,
    "start_time": "2021-09-20T18:55:41.095Z"
   },
   {
    "duration": 261,
    "start_time": "2021-09-20T18:58:14.317Z"
   },
   {
    "duration": 14,
    "start_time": "2021-09-20T18:58:32.327Z"
   },
   {
    "duration": 256,
    "start_time": "2021-09-20T19:00:48.531Z"
   },
   {
    "duration": 15,
    "start_time": "2021-09-20T19:01:01.117Z"
   },
   {
    "duration": 14,
    "start_time": "2021-09-20T19:02:10.522Z"
   },
   {
    "duration": 15,
    "start_time": "2021-09-20T19:02:20.485Z"
   },
   {
    "duration": 14,
    "start_time": "2021-09-20T19:02:37.069Z"
   },
   {
    "duration": 392,
    "start_time": "2021-09-20T19:31:17.174Z"
   },
   {
    "duration": 10,
    "start_time": "2021-09-20T19:32:29.042Z"
   },
   {
    "duration": 9,
    "start_time": "2021-09-20T19:32:35.519Z"
   },
   {
    "duration": 9,
    "start_time": "2021-09-20T19:32:39.944Z"
   },
   {
    "duration": 11,
    "start_time": "2021-09-20T19:33:00.627Z"
   },
   {
    "duration": 689,
    "start_time": "2021-09-20T20:12:32.184Z"
   },
   {
    "duration": 125942,
    "start_time": "2021-09-21T08:02:57.065Z"
   },
   {
    "duration": 12,
    "start_time": "2021-09-21T08:05:03.010Z"
   },
   {
    "duration": 193,
    "start_time": "2021-09-21T08:05:03.025Z"
   },
   {
    "duration": 18,
    "start_time": "2021-09-21T08:05:03.221Z"
   },
   {
    "duration": 7,
    "start_time": "2021-09-21T08:05:03.241Z"
   },
   {
    "duration": 16,
    "start_time": "2021-09-21T08:05:03.250Z"
   },
   {
    "duration": 7,
    "start_time": "2021-09-21T08:05:03.268Z"
   },
   {
    "duration": 150,
    "start_time": "2021-09-21T08:05:03.279Z"
   },
   {
    "duration": 15,
    "start_time": "2021-09-21T08:05:03.432Z"
   },
   {
    "duration": 15,
    "start_time": "2021-09-21T08:05:03.450Z"
   },
   {
    "duration": 11,
    "start_time": "2021-09-21T08:05:03.468Z"
   },
   {
    "duration": 44,
    "start_time": "2021-09-21T08:05:03.481Z"
   },
   {
    "duration": 117,
    "start_time": "2021-09-21T08:05:03.527Z"
   },
   {
    "duration": 12,
    "start_time": "2021-09-21T08:05:03.646Z"
   },
   {
    "duration": 408,
    "start_time": "2021-09-21T08:05:03.661Z"
   },
   {
    "duration": 380,
    "start_time": "2021-09-21T08:05:04.071Z"
   },
   {
    "duration": 352,
    "start_time": "2021-09-21T08:05:04.454Z"
   },
   {
    "duration": 1197,
    "start_time": "2021-09-21T08:05:04.808Z"
   },
   {
    "duration": 22,
    "start_time": "2021-09-21T08:05:06.008Z"
   },
   {
    "duration": 9,
    "start_time": "2021-09-21T08:05:06.033Z"
   },
   {
    "duration": 1046,
    "start_time": "2021-09-21T08:05:06.044Z"
   },
   {
    "duration": 30,
    "start_time": "2021-09-21T08:05:07.093Z"
   },
   {
    "duration": 637,
    "start_time": "2021-09-21T08:05:07.130Z"
   },
   {
    "duration": 59,
    "start_time": "2021-09-21T08:05:07.770Z"
   },
   {
    "duration": 15,
    "start_time": "2021-09-21T08:05:07.831Z"
   },
   {
    "duration": 34,
    "start_time": "2021-09-21T08:05:07.848Z"
   },
   {
    "duration": 618,
    "start_time": "2021-09-21T08:05:07.885Z"
   },
   {
    "duration": 29,
    "start_time": "2021-09-21T08:05:08.506Z"
   },
   {
    "duration": 11,
    "start_time": "2021-09-21T08:05:08.538Z"
   },
   {
    "duration": 11,
    "start_time": "2021-09-21T08:05:08.551Z"
   },
   {
    "duration": 12,
    "start_time": "2021-09-21T08:05:08.565Z"
   },
   {
    "duration": 43,
    "start_time": "2021-09-21T08:05:08.579Z"
   },
   {
    "duration": 19,
    "start_time": "2021-09-21T08:05:08.625Z"
   },
   {
    "duration": 12,
    "start_time": "2021-09-21T08:05:08.647Z"
   },
   {
    "duration": 10,
    "start_time": "2021-09-21T08:05:08.662Z"
   },
   {
    "duration": 713,
    "start_time": "2021-09-21T08:05:08.674Z"
   },
   {
    "duration": 668,
    "start_time": "2021-09-21T08:05:09.389Z"
   }
  ],
  "interpreter": {
   "hash": "eecb6f739249f333e6eb6f28930ccb37aedec3f38785c7ff769d6e5598bab9c0"
  },
  "kernelspec": {
   "display_name": "Python 3",
   "language": "python",
   "name": "python3"
  },
  "language_info": {
   "codemirror_mode": {
    "name": "ipython",
    "version": 3
   },
   "file_extension": ".py",
   "mimetype": "text/x-python",
   "name": "python",
   "nbconvert_exporter": "python",
   "pygments_lexer": "ipython3",
   "version": "3.7.8"
  },
  "toc": {
   "base_numbering": 1,
   "nav_menu": {},
   "number_sections": true,
   "sideBar": true,
   "skip_h1_title": true,
   "title_cell": "Table of Contents",
   "title_sidebar": "Contents",
   "toc_cell": false,
   "toc_position": {},
   "toc_section_display": true,
   "toc_window_display": false
  }
 },
 "nbformat": 4,
 "nbformat_minor": 2
}
